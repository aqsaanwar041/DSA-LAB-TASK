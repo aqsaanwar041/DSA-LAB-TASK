{
 "cells": [
  {
   "cell_type": "code",
   "execution_count": null,
   "id": "f9470707",
   "metadata": {},
   "outputs": [],
   "source": [
    "DSA LAB TASK 10(3)"
   ]
  },
  {
   "cell_type": "code",
   "execution_count": 2,
   "id": "6fdd453f",
   "metadata": {},
   "outputs": [],
   "source": [
    "def binary_search(arr, target, left, right):\n",
    "    while left <= right:\n",
    "        mid = left + (right - left) // 2\n",
    "        if arr[mid] == target:\n",
    "            return mid\n",
    "        elif arr[mid] < target:\n",
    "            left = mid + 1\n",
    "        else:\n",
    "            right = mid - 1\n",
    "    return -1\n",
    "\n",
    "def exponential_search(arr, target):\n",
    "    if arr[0] == target:\n",
    "        return 0\n",
    "    i = 1\n",
    "    while i < len(arr) and arr[i] <= target:\n",
    "        i *= 2\n",
    "    return binary_search(arr, target, i // 2, min(i, len(arr) - 1))\n"
   ]
  },
  {
   "cell_type": "code",
   "execution_count": 3,
   "id": "01593b51",
   "metadata": {},
   "outputs": [],
   "source": [
    "def fibonacci_search(arr, target):\n",
    "    n = len(arr)\n",
    "    fibMMm2 = 0  \n",
    "    fibMMm1 = 1  \n",
    "    fibM = fibMMm2 + fibMMm1  \n",
    "\n",
    "    while fibM < n:\n",
    "        fibMMm2 = fibMMm1\n",
    "        fibMMm1 = fibM\n",
    "        fibM = fibMMm2 + fibMMm1\n",
    "\n",
    "    offset = -1\n",
    "\n",
    "    while fibM > 1:\n",
    "        i = min(offset + fibMMm2, n - 1)\n",
    "        if arr[i] < target:\n",
    "            fibM = fibMMm1\n",
    "            fibMMm1 = fibMMm2\n",
    "            fibMMm2 = fibM - fibMMm1\n",
    "            offset = i\n",
    "        elif arr[i] > target:\n",
    "            fibM = fibMMm2\n",
    "            fibMMm1 = fibMMm1 - fibMMm2\n",
    "            fibMMm2 = fibM - fibMMm1\n",
    "        else:\n",
    "            return i\n",
    "\n",
    "    if fibMMm1 and offset + 1 < n and arr[offset + 1] == target:\n",
    "        return offset + 1\n",
    "\n",
    "    return -1\n"
   ]
  },
  {
   "cell_type": "code",
   "execution_count": 4,
   "id": "217ccf36",
   "metadata": {},
   "outputs": [
    {
     "name": "stdout",
     "output_type": "stream",
     "text": [
      "Exponential Search: Index 9999, Time 0.00 µs\n",
      "Fibonacci Search: Index 9999, Time 6896.73 µs\n",
      "Binary Search: Index 9999, Time 0.00 µs\n"
     ]
    }
   ],
   "source": [
    "import time\n",
    "import bisect\n",
    "\n",
    "def binary_search_builtin(arr, target):\n",
    "    index = bisect.bisect_left(arr, target)\n",
    "    return index if index < len(arr) and arr[index] == target else -1\n",
    "\n",
    "def measure_time(func, arr, target):\n",
    "    start = time.time()\n",
    "    result = func(arr, target)\n",
    "    end = time.time()\n",
    "    return result, (end - start) * 1e6 \n",
    "arr = list(range(0, 100000, 3))  \n",
    "target = 29997\n",
    "\n",
    "res_exp, t_exp = measure_time(exponential_search, arr, target)\n",
    "res_fib, t_fib = measure_time(fibonacci_search, arr, target)\n",
    "res_bin, t_bin = measure_time(binary_search_builtin, arr, target)\n",
    "\n",
    "print(f\"Exponential Search: Index {res_exp}, Time {t_exp:.2f} µs\")\n",
    "print(f\"Fibonacci Search: Index {res_fib}, Time {t_fib:.2f} µs\")\n",
    "print(f\"Binary Search: Index {res_bin}, Time {t_bin:.2f} µs\")\n"
   ]
  }
 ],
 "metadata": {
  "kernelspec": {
   "display_name": "Python 3",
   "language": "python",
   "name": "python3"
  },
  "language_info": {
   "codemirror_mode": {
    "name": "ipython",
    "version": 3
   },
   "file_extension": ".py",
   "mimetype": "text/x-python",
   "name": "python",
   "nbconvert_exporter": "python",
   "pygments_lexer": "ipython3",
   "version": "3.12.7"
  }
 },
 "nbformat": 4,
 "nbformat_minor": 5
}

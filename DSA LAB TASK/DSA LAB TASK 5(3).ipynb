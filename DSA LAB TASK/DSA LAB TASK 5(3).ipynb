{
 "cells": [
  {
   "cell_type": "code",
   "execution_count": 7,
   "metadata": {},
   "outputs": [
    {
     "ename": "SyntaxError",
     "evalue": "invalid syntax (639993470.py, line 1)",
     "output_type": "error",
     "traceback": [
      "  \u001b[36mCell\u001b[39m\u001b[36m \u001b[39m\u001b[32mIn[7]\u001b[39m\u001b[32m, line 1\u001b[39m\n\u001b[31m    \u001b[39m\u001b[31mTASK 5 (3)\u001b[39m\n         ^\n\u001b[31mSyntaxError\u001b[39m\u001b[31m:\u001b[39m invalid syntax\n"
     ]
    }
   ],
   "source": [
    "TASK 5 (3)\n"
   ]
  },
  {
   "cell_type": "code",
   "execution_count": 8,
   "metadata": {},
   "outputs": [],
   "source": [
    "class Node:\n",
    "    def __init__(self, key, value):\n",
    "        self.key = key\n",
    "        self.value = value\n",
    "        self.prev = None\n",
    "        self.next = None\n",
    "\n",
    "class LRUCache:\n",
    "    def __init__(self, capacity):\n",
    "        self.capacity = capacity\n",
    "        self.cache = {}  \n",
    "        self.head = Node(0, 0)  \n",
    "        self.tail = Node(0, 0)  \n",
    "        self.head.next = self.tail\n",
    "        self.tail.prev = self.head\n",
    "\n",
    "    def _remove(self, node):\n",
    "        \"\"\"Remove node from linked list\"\"\"\n",
    "        prev = node.prev\n",
    "        nxt = node.next\n",
    "        prev.next = nxt\n",
    "        nxt.prev = prev\n",
    "\n",
    "    def _add_to_front(self, node):\n",
    "        \"\"\"Add node right after head (most recent)\"\"\"\n",
    "        node.next = self.head.next\n",
    "        node.prev = self.head\n",
    "        self.head.next.prev = node\n",
    "        self.head.next = node\n",
    "\n",
    "    def get(self, key):\n",
    "        if key in self.cache:\n",
    "            node = self.cache[key]\n",
    "            self._remove(node)\n",
    "            self._add_to_front(node)\n",
    "            return node.value\n",
    "        return -1\n",
    "\n",
    "    def put(self, key, value):\n",
    "        if key in self.cache:\n",
    "            self._remove(self.cache[key])\n",
    "        node = Node(key, value)\n",
    "        self._add_to_front(node)\n",
    "        self.cache[key] = node\n",
    "\n",
    "        if len(self.cache) > self.capacity:\n",
    "    \n",
    "            lru = self.tail.prev\n",
    "            self._remove(lru)\n",
    "            del self.cache[lru.key]\n",
    "\n",
    "    def display(self):\n",
    "        print(\"Cache state:\", end=\" \")\n",
    "        curr = self.head.next\n",
    "        result = {}\n",
    "        while curr != self.tail:\n",
    "            result[curr.key] = curr.value\n",
    "            curr = curr.next\n",
    "        print(result)\n"
   ]
  },
  {
   "cell_type": "code",
   "execution_count": 9,
   "metadata": {},
   "outputs": [
    {
     "name": "stdout",
     "output_type": "stream",
     "text": [
      "Cache state: {6: 'F', 2: 'B', 5: 'E', 4: 'D', 3: 'C'}\n",
      "Cache state: {7: 'G', 4: 'D', 6: 'F', 2: 'B', 5: 'E'}\n"
     ]
    }
   ],
   "source": [
    "\n",
    "cache = LRUCache(5)\n",
    "cache.put(1, \"A\")\n",
    "cache.put(2, \"B\")\n",
    "cache.put(3, \"C\")\n",
    "cache.put(4, \"D\")\n",
    "cache.put(5, \"E\")\n",
    "cache.get(2)       \n",
    "cache.put(6, \"F\")  \n",
    "cache.display()\n",
    "\n",
    "\n",
    "cache.get(4)       \n",
    "cache.put(7, \"G\")  \n",
    "cache.display()\n"
   ]
  }
 ],
 "metadata": {
  "kernelspec": {
   "display_name": "Python 3",
   "language": "python",
   "name": "python3"
  },
  "language_info": {
   "codemirror_mode": {
    "name": "ipython",
    "version": 3
   },
   "file_extension": ".py",
   "mimetype": "text/x-python",
   "name": "python",
   "nbconvert_exporter": "python",
   "pygments_lexer": "ipython3",
   "version": "3.13.0"
  }
 },
 "nbformat": 4,
 "nbformat_minor": 2
}

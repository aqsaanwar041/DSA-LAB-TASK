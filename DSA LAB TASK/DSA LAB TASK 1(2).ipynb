{
 "cells": [
  {
   "cell_type": "code",
   "execution_count": null,
   "id": "cc096436",
   "metadata": {},
   "outputs": [],
   "source": [
    "TASK 1(2)"
   ]
  },
  {
   "cell_type": "code",
   "execution_count": 1,
   "id": "f3a53022",
   "metadata": {},
   "outputs": [],
   "source": [
    "import time\n",
    "from functools import lru_cache\n",
    "def fib_recursive(n):\n",
    "    if n <= 1:\n",
    "        return n\n",
    "    return fib_recursive(n-1) + fib_recursive(n-2)\n",
    "def fib_iterative(n):\n",
    "    if n <= 1:\n",
    "        return n\n",
    "    a, b = 0, 1\n",
    "    for _ in range(2, n+1):\n",
    "        a, b = b, a + b\n",
    "    return b\n",
    "@lru_cache(maxsize=None)\n",
    "def fib_memoized(n):\n",
    "    if n <= 1:\n",
    "        return n\n",
    "    return fib_memoized(n-1) + fib_memoized(n-2)\n"
   ]
  },
  {
   "cell_type": "code",
   "execution_count": null,
   "id": "9789dc25",
   "metadata": {},
   "outputs": [
    {
     "name": "stdout",
     "output_type": "stream",
     "text": [
      "\n",
      "Fibonacci of 10:\n",
      "Recursive : Result=55, Time=0.000036 seconds\n",
      "Iterative : Result=55, Time=0.000006 seconds\n",
      "Memoized  : Result=55, Time=0.000014 seconds\n",
      "\n",
      "Fibonacci of 20:\n",
      "Recursive : Result=6765, Time=0.005931 seconds\n",
      "Iterative : Result=6765, Time=0.000007 seconds\n",
      "Memoized  : Result=6765, Time=0.000010 seconds\n",
      "\n",
      "Fibonacci of 30:\n",
      "Recursive : Result=832040, Time=0.375110 seconds\n",
      "Iterative : Result=832040, Time=0.000004 seconds\n",
      "Memoized  : Result=832040, Time=0.000009 seconds\n",
      "\n",
      "Fibonacci of 40:\n"
     ]
    }
   ],
   "source": [
    "def measure_time(func, n):\n",
    "    start = time.time()\n",
    "    result = func(n)\n",
    "    end = time.time()\n",
    "    return result, end - start\n",
    "\n",
    "values = [10, 20, 30, 40]\n",
    "methods = [(\"Recursive\", fib_recursive), (\"Iterative\", fib_iterative), (\"Memoized\", fib_memoized)]\n",
    "\n",
    "for n in values:\n",
    "    print(f\"\\nFibonacci of {n}:\")\n",
    "    for name, method in methods:\n",
    "        try:\n",
    "            result, exec_time = measure_time(method, n)\n",
    "            print(f\"{name:<10}: Result={result}, Time={exec_time:.6f} seconds\")\n",
    "        except RecursionError:\n",
    "            print(f\"{name:<10}: RecursionError (stack overflow)\")\n"
   ]
  }
 ],
 "metadata": {
  "kernelspec": {
   "display_name": "Python 3",
   "language": "python",
   "name": "python3"
  },
  "language_info": {
   "codemirror_mode": {
    "name": "ipython",
    "version": 3
   },
   "file_extension": ".py",
   "mimetype": "text/x-python",
   "name": "python",
   "nbconvert_exporter": "python",
   "pygments_lexer": "ipython3",
   "version": "3.13.0"
  }
 },
 "nbformat": 4,
 "nbformat_minor": 5
}

{
 "cells": [
  {
   "cell_type": "code",
   "execution_count": null,
   "id": "386750fd",
   "metadata": {},
   "outputs": [],
   "source": [
    "TASK 8(2)"
   ]
  },
  {
   "cell_type": "code",
   "execution_count": 1,
   "id": "40f4430c",
   "metadata": {},
   "outputs": [],
   "source": [
    "from collections import deque\n",
    "\n",
    "class Graph:\n",
    "    def __init__(self, vertices):\n",
    "        self.vertices = vertices\n",
    "        self.graph = [[] for _ in range(vertices)]\n",
    "\n",
    "    def add_edge(self, u, v):\n",
    "        self.graph[u].append(v)\n",
    "\n",
    "    def bfs(self, start):\n",
    "        visited = [False] * self.vertices\n",
    "        queue = deque()\n",
    "        traversal = []\n",
    "\n",
    "        queue.append(start)\n",
    "        visited[start] = True\n",
    "\n",
    "        while queue:\n",
    "            node = queue.popleft()\n",
    "            traversal.append(node)\n",
    "\n",
    "            for neighbor in self.graph[node]:\n",
    "                if not visited[neighbor]:\n",
    "                    queue.append(neighbor)\n",
    "                    visited[neighbor] = True\n",
    "\n",
    "        return traversal\n",
    "\n",
    "    def dfs(self, start):\n",
    "        visited = [False] * self.vertices\n",
    "        traversal = []\n",
    "\n",
    "        def dfs_helper(node):\n",
    "            visited[node] = True\n",
    "            traversal.append(node)\n",
    "            for neighbor in self.graph[node]:\n",
    "                if not visited[neighbor]:\n",
    "                    dfs_helper(neighbor)\n",
    "\n",
    "        dfs_helper(start)\n",
    "        return traversal\n"
   ]
  },
  {
   "cell_type": "code",
   "execution_count": 2,
   "id": "eaf5fae0",
   "metadata": {},
   "outputs": [
    {
     "name": "stdout",
     "output_type": "stream",
     "text": [
      "BFS Traversal: [0, 1, 2, 3, 4, 5]\n",
      "DFS Traversal: [0, 1, 3, 4, 2, 5]\n"
     ]
    }
   ],
   "source": [
    "g = Graph(6)\n",
    "g.add_edge(0, 1)\n",
    "g.add_edge(0, 2)\n",
    "g.add_edge(1, 3)\n",
    "g.add_edge(1, 4)\n",
    "g.add_edge(2, 5)\n",
    "\n",
    "print(\"BFS Traversal:\", g.bfs(0))  \n",
    "print(\"DFS Traversal:\", g.dfs(0))  "
   ]
  }
 ],
 "metadata": {
  "kernelspec": {
   "display_name": "Python 3",
   "language": "python",
   "name": "python3"
  },
  "language_info": {
   "codemirror_mode": {
    "name": "ipython",
    "version": 3
   },
   "file_extension": ".py",
   "mimetype": "text/x-python",
   "name": "python",
   "nbconvert_exporter": "python",
   "pygments_lexer": "ipython3",
   "version": "3.13.0"
  }
 },
 "nbformat": 4,
 "nbformat_minor": 5
}

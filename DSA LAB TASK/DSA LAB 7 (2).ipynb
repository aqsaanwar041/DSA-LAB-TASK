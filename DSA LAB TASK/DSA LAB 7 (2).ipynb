{
 "cells": [
  {
   "cell_type": "code",
   "execution_count": null,
   "id": "d44b5577",
   "metadata": {},
   "outputs": [],
   "source": [
    "TASK 7(2)"
   ]
  },
  {
   "cell_type": "code",
   "execution_count": 1,
   "id": "d0095697",
   "metadata": {},
   "outputs": [],
   "source": [
    "import heapq\n",
    "\n",
    "class PriorityQueue:\n",
    "    def __init__(self):\n",
    "        self.heap = []  \n",
    "        self.counter = 0  \n",
    "\n",
    "    def enqueue(self, value, priority):\n",
    "        heapq.heappush(self.heap, (priority, self.counter, value))\n",
    "        self.counter += 1\n",
    "\n",
    "    def dequeue(self):\n",
    "        if not self.heap:\n",
    "            return None\n",
    "        return heapq.heappop(self.heap)[2]\n",
    "\n",
    "    def peek(self):\n",
    "        if not self.heap:\n",
    "            return None\n",
    "        return self.heap[0][2]\n"
   ]
  },
  {
   "cell_type": "code",
   "execution_count": 2,
   "id": "ad552d09",
   "metadata": {},
   "outputs": [
    {
     "name": "stdout",
     "output_type": "stream",
     "text": [
      "Task B\n",
      "Task C\n",
      "Patient: Head Injury\n",
      "Patient: Broken Arm\n",
      "Patient: Fever\n"
     ]
    }
   ],
   "source": [
    "\n",
    "pq = PriorityQueue()\n",
    "pq.enqueue(\"Task A\", 3)\n",
    "pq.enqueue(\"Task B\", 1)\n",
    "pq.enqueue(\"Task C\", 2)\n",
    "\n",
    "print(pq.dequeue())  \n",
    "print(pq.peek())\n",
    "\n",
    "er = PriorityQueue()\n",
    "er.enqueue(\"Patient: Head Injury\", 1)\n",
    "er.enqueue(\"Patient: Fever\", 4)\n",
    "er.enqueue(\"Patient: Broken Arm\", 2)\n",
    "\n",
    "print(er.dequeue())  \n",
    "print(er.dequeue())  \n",
    "print(er.peek())     \n"
   ]
  }
 ],
 "metadata": {
  "kernelspec": {
   "display_name": "Python 3",
   "language": "python",
   "name": "python3"
  },
  "language_info": {
   "codemirror_mode": {
    "name": "ipython",
    "version": 3
   },
   "file_extension": ".py",
   "mimetype": "text/x-python",
   "name": "python",
   "nbconvert_exporter": "python",
   "pygments_lexer": "ipython3",
   "version": "3.13.0"
  }
 },
 "nbformat": 4,
 "nbformat_minor": 5
}

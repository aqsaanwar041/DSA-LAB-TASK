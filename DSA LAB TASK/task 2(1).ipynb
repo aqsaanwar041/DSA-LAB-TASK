{
 "cells": [
  {
   "cell_type": "code",
   "execution_count": null,
   "id": "61ecc16f",
   "metadata": {},
   "outputs": [],
   "source": [
    "TASK 2 (1)"
   ]
  },
  {
   "cell_type": "code",
   "execution_count": 8,
   "id": "e7759b9f",
   "metadata": {},
   "outputs": [
    {
     "name": "stdout",
     "output_type": "stream",
     "text": [
      "After appending: [10, 20, 30]\n",
      "After inserting 15 at index 1: [10, 15, 20, 30]\n",
      "After deleting at index 2: [10, 15, 30]\n",
      "Index of 15: 1\n",
      "Index of 100 (not found): -1\n",
      "After adding 100 elements: [10, 15, 30, 0, 1, 2, 3, 4, 5, 6, 7, 8, 9, 10, 11, 12, 13, 14, 15, 16, 17, 18, 19, 20, 21, 22, 23, 24, 25, 26, 27, 28, 29, 30, 31, 32, 33, 34, 35, 36, 37, 38, 39, 40, 41, 42, 43, 44, 45, 46, 47, 48, 49, 50, 51, 52, 53, 54, 55, 56, 57, 58, 59, 60, 61, 62, 63, 64, 65, 66, 67, 68, 69, 70, 71, 72, 73, 74, 75, 76, 77, 78, 79, 80, 81, 82, 83, 84, 85, 86, 87, 88, 89, 90, 91, 92, 93, 94, 95, 96, 97, 98, 99]\n",
      "Final size: 103\n",
      "Final capacity: 128\n"
     ]
    }
   ],
   "source": [
    "\n",
    "class DynamicArray:\n",
    "    def __init__(self):\n",
    "        self.capacity = 2\n",
    "        self.size = 0\n",
    "        self.array = self._make_array(self.capacity)\n",
    "\n",
    "    def _make_array(self, new_capacity):\n",
    "        return [None] * new_capacity\n",
    "\n",
    "    def _resize(self, new_capacity):\n",
    "        new_array = self._make_array(new_capacity)\n",
    "        for i in range(self.size):\n",
    "            new_array[i] = self.array[i]\n",
    "        self.array = new_array\n",
    "        self.capacity = new_capacity\n",
    "\n",
    "    def append(self, value):\n",
    "        if self.size == self.capacity:\n",
    "            self._resize(2 * self.capacity)\n",
    "        self.array[self.size] = value\n",
    "        self.size += 1\n",
    "\n",
    "    def insert(self, index, value):\n",
    "        if index < 0 or index > self.size:\n",
    "            raise IndexError(\"Index out of bounds\")\n",
    "        if self.size == self.capacity:\n",
    "            self._resize(2 * self.capacity)\n",
    "        for i in range(self.size, index, -1):\n",
    "            self.array[i] = self.array[i - 1]\n",
    "        self.array[index] = value\n",
    "        self.size += 1\n",
    "\n",
    "    def delete(self, index):\n",
    "        if index < 0 or index >= self.size:\n",
    "            raise IndexError(\"Index out of bounds\")\n",
    "        for i in range(index, self.size - 1):\n",
    "            self.array[i] = self.array[i + 1]\n",
    "        self.array[self.size - 1] = None\n",
    "        self.size -= 1\n",
    "        if self.size > 0 and self.size < self.capacity // 4:\n",
    "            self._resize(max(2, self.capacity // 2))\n",
    "\n",
    "    def search(self, value):\n",
    "        for i in range(self.size):\n",
    "            if self.array[i] == value:\n",
    "                return i\n",
    "        return -1\n",
    "\n",
    "    def __str__(self):\n",
    "        return \"[\" + \", \".join(str(self.array[i]) for i in range(self.size)) + \"]\"\n",
    "arr = DynamicArray()\n",
    "arr.append(10)\n",
    "arr.append(20)\n",
    "arr.append(30)\n",
    "print(\"After appending:\", arr)  \n",
    "\n",
    "arr.insert(1, 15)\n",
    "print(\"After inserting 15 at index 1:\", arr)  \n",
    "\n",
    "arr.delete(2)\n",
    "print(\"After deleting at index 2:\", arr) \n",
    "\n",
    "print(\"Index of 15:\", arr.search(15))  \n",
    "print(\"Index of 100 (not found):\", arr.search(100))  \n",
    "\n",
    "for i in range(100):\n",
    "    arr.append(i)\n",
    "\n",
    "print(\"After adding 100 elements:\", arr)\n",
    "print(\"Final size:\", arr.size)\n",
    "print(\"Final capacity:\", arr.capacity)\n"
   ]
  }
 ],
 "metadata": {
  "kernelspec": {
   "display_name": "Python 3",
   "language": "python",
   "name": "python3"
  },
  "language_info": {
   "codemirror_mode": {
    "name": "ipython",
    "version": 3
   },
   "file_extension": ".py",
   "mimetype": "text/x-python",
   "name": "python",
   "nbconvert_exporter": "python",
   "pygments_lexer": "ipython3",
   "version": "3.13.0"
  }
 },
 "nbformat": 4,
 "nbformat_minor": 5
}

{
 "cells": [
  {
   "cell_type": "code",
   "execution_count": null,
   "id": "d511a4ec",
   "metadata": {},
   "outputs": [],
   "source": [
    "task 6 (2)"
   ]
  },
  {
   "cell_type": "code",
   "execution_count": 1,
   "id": "e36c5e8e",
   "metadata": {},
   "outputs": [],
   "source": [
    "class Node:\n",
    "    def __init__(self, value):\n",
    "        self.val = value\n",
    "        self.left = None\n",
    "        self.right = None\n",
    "\n",
    "def find_LCA(root, n1, n2):\n",
    "    if n1 < root.val and n2 < root.val:\n",
    "        return find_LCA(root.left, n1, n2)\n",
    "\n",
    "    elif n1 > root.val and n2 > root.val:\n",
    "        return find_LCA(root.right, n1, n2)\n",
    "\n",
    "    else:\n",
    "        return root\n"
   ]
  },
  {
   "cell_type": "code",
   "execution_count": 2,
   "id": "98715705",
   "metadata": {},
   "outputs": [
    {
     "name": "stdout",
     "output_type": "stream",
     "text": [
      "LCA(5, 15) = 10\n",
      "LCA(5, 25) = 20\n",
      "LCA(25, 35) = 30\n"
     ]
    }
   ],
   "source": [
    "\n",
    "\n",
    "root = Node(20)\n",
    "root.left = Node(10)\n",
    "root.right = Node(30)\n",
    "root.left.left = Node(5)\n",
    "root.left.right = Node(15)\n",
    "root.right.left = Node(25)\n",
    "root.right.right = Node(35)\n",
    "pairs = [(5, 15), (5, 25), (25, 35)]\n",
    "\n",
    "for a, b in pairs:\n",
    "    lca = find_LCA(root, a, b)\n",
    "    print(f\"LCA({a}, {b}) = {lca.val}\")\n"
   ]
  }
 ],
 "metadata": {
  "kernelspec": {
   "display_name": "Python 3",
   "language": "python",
   "name": "python3"
  },
  "language_info": {
   "codemirror_mode": {
    "name": "ipython",
    "version": 3
   },
   "file_extension": ".py",
   "mimetype": "text/x-python",
   "name": "python",
   "nbconvert_exporter": "python",
   "pygments_lexer": "ipython3",
   "version": "3.13.0"
  }
 },
 "nbformat": 4,
 "nbformat_minor": 5
}

{
 "cells": [
  {
   "cell_type": "code",
   "execution_count": null,
   "metadata": {},
   "outputs": [],
   "source": [
    "TASK 6 (1)"
   ]
  },
  {
   "cell_type": "code",
   "execution_count": 1,
   "metadata": {},
   "outputs": [],
   "source": [
    "class Node:\n",
    "    def __init__(self, value):\n",
    "        self.value = value\n",
    "        self.left = None\n",
    "        self.right = None\n",
    "\n",
    "class BinarySearchTree:\n",
    "    def __init__(self):\n",
    "        self.root = None\n",
    "\n",
    "    def insert(self, value):\n",
    "        def _insert(root, value):\n",
    "            if not root:\n",
    "                return Node(value)\n",
    "            if value < root.value:\n",
    "                root.left = _insert(root.left, value)\n",
    "            else:\n",
    "                root.right = _insert(root.right, value)\n",
    "            return root\n",
    "        self.root = _insert(self.root, value)\n",
    "\n",
    "    def search(self, value):\n",
    "        def _search(root, value):\n",
    "            if not root:\n",
    "                return False\n",
    "            if value == root.value:\n",
    "                return True\n",
    "            elif value < root.value:\n",
    "                return _search(root.left, value)\n",
    "            else:\n",
    "                return _search(root.right, value)\n",
    "        return _search(self.root, value)\n",
    "\n",
    "    def delete(self, value):\n",
    "        def _min_value_node(node):\n",
    "            current = node\n",
    "            while current.left:\n",
    "                current = current.left\n",
    "            return current\n",
    "\n",
    "        def _delete(root, value):\n",
    "            if not root:\n",
    "                return root\n",
    "            if value < root.value:\n",
    "                root.left = _delete(root.left, value)\n",
    "            elif value > root.value:\n",
    "                root.right = _delete(root.right, value)\n",
    "            else:\n",
    "               \n",
    "                if not root.left:\n",
    "                    return root.right\n",
    "                elif not root.right:\n",
    "                    return root.left\n",
    "                \n",
    "                temp = _min_value_node(root.right)\n",
    "                root.value = temp.value\n",
    "                root.right = _delete(root.right, temp.value)\n",
    "            return root\n",
    "\n",
    "        self.root = _delete(self.root, value)\n",
    "\n",
    "    def inorder_traversal(self):\n",
    "        def _inorder(root):\n",
    "            if root:\n",
    "                _inorder(root.left)\n",
    "                print(root.value, end=' ')\n",
    "                _inorder(root.right)\n",
    "        _inorder(self.root)\n",
    "        print()\n"
   ]
  },
  {
   "cell_type": "code",
   "execution_count": 3,
   "metadata": {},
   "outputs": [
    {
     "name": "stdout",
     "output_type": "stream",
     "text": [
      "Inorder Traversal:\n",
      "20 30 40 50 60 70 80 \n",
      "Search 40: True\n",
      "Search 90: <bound method BinarySearchTree.search of <__main__.BinarySearchTree object at 0x000001E7253A34D0>>\n",
      "After deleting 20:\n",
      "30 40 50 60 70 80 \n",
      "After deleting 30:\n",
      "40 50 60 70 80 \n",
      "After deleting 50:\n",
      "40 60 70 80 \n"
     ]
    }
   ],
   "source": [
    "bst = BinarySearchTree()\n",
    "for value in [50, 30, 70, 20, 40, 60, 80]:\n",
    "    bst.insert(value)\n",
    "\n",
    "print(\"Inorder Traversal:\")\n",
    "bst.inorder_traversal() \n",
    "print(\"Search 40:\", bst.search(40))  \n",
    "print(\"Search 90:\", bst.search)\n",
    "bst.delete(20)\n",
    "print(\"After deleting 20:\")\n",
    "bst.inorder_traversal()  \n",
    "\n",
    "bst.delete(30)\n",
    "print(\"After deleting 30:\")\n",
    "bst.inorder_traversal() \n",
    "\n",
    "\n",
    "bst.delete(50)\n",
    "print(\"After deleting 50:\")\n",
    "bst.inorder_traversal()  \n"
   ]
  }
 ],
 "metadata": {
  "kernelspec": {
   "display_name": "Python 3",
   "language": "python",
   "name": "python3"
  },
  "language_info": {
   "codemirror_mode": {
    "name": "ipython",
    "version": 3
   },
   "file_extension": ".py",
   "mimetype": "text/x-python",
   "name": "python",
   "nbconvert_exporter": "python",
   "pygments_lexer": "ipython3",
   "version": "3.13.0"
  }
 },
 "nbformat": 4,
 "nbformat_minor": 2
}

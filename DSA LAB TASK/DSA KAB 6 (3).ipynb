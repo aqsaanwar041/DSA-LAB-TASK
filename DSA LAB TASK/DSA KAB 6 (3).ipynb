{
 "cells": [
  {
   "cell_type": "code",
   "execution_count": null,
   "id": "09513969",
   "metadata": {},
   "outputs": [],
   "source": [
    "TASK 6 (3)\n"
   ]
  },
  {
   "cell_type": "code",
   "execution_count": 7,
   "id": "33db8864",
   "metadata": {},
   "outputs": [],
   "source": [
    "class TreeNode:\n",
    "    def __init__(self, val=0, left=None, right=None):\n",
    "        self.val = val\n",
    "        self.left = left\n",
    "        self.right = right\n",
    "\n",
    "def is_balanced(root):\n",
    "    def check_height(node):\n",
    "        if not node:\n",
    "            return 0\n",
    "\n",
    "        left_height = check_height(node.left)\n",
    "        if left_height == -1:\n",
    "            return -1 \n",
    "\n",
    "        right_height = check_height(node.right)\n",
    "        if right_height == -1:\n",
    "            return -1  \n",
    "\n",
    "        if abs(left_height - right_height) > 1:\n",
    "            return -1  \n",
    "\n",
    "        return max(left_height, right_height) + 1\n",
    "\n",
    "    return check_height(root) != -1\n"
   ]
  },
  {
   "cell_type": "code",
   "execution_count": 10,
   "id": "6237257e",
   "metadata": {},
   "outputs": [
    {
     "ename": "NameError",
     "evalue": "name 'BinarySearchTree' is not defined",
     "output_type": "error",
     "traceback": [
      "\u001b[31m---------------------------------------------------------------------------\u001b[39m",
      "\u001b[31mNameError\u001b[39m                                 Traceback (most recent call last)",
      "\u001b[36mCell\u001b[39m\u001b[36m \u001b[39m\u001b[32mIn[10]\u001b[39m\u001b[32m, line 1\u001b[39m\n\u001b[32m----> \u001b[39m\u001b[32m1\u001b[39m bst = \u001b[43mBinarySearchTree\u001b[49m()\n\u001b[32m      3\u001b[39m \u001b[38;5;28;01mfor\u001b[39;00m value \u001b[38;5;129;01min\u001b[39;00m [\u001b[32m50\u001b[39m, \u001b[32m30\u001b[39m, \u001b[32m70\u001b[39m, \u001b[32m20\u001b[39m, \u001b[32m40\u001b[39m, \u001b[32m60\u001b[39m, \u001b[32m80\u001b[39m]:\n\u001b[32m      4\u001b[39m     bst.insert(value)\n",
      "\u001b[31mNameError\u001b[39m: name 'BinarySearchTree' is not defined"
     ]
    }
   ],
   "source": [
    "\n",
    "bst = BinarySearchTree()\n",
    "\n",
    "for value in [50, 30, 70, 20, 40, 60, 80]:\n",
    "    bst.insert(value)\n",
    "\n",
    "print(\"Inorder Traversal:\")\n",
    "bst.inorder_traversal()\n",
    "\n",
    "print(\"Search 40:\", bst.search(40))  \n",
    "print(\"Search 90:\", bst.search(90))  \n",
    "\n",
    "bst.delete(20)\n",
    "print(\"After deleting 20:\")\n",
    "bst.inorder_traversal()\n",
    "\n",
    "bst.delete(30)\n",
    "print(\"After deleting 30:\")\n",
    "bst.inorder_traversal()\n",
    "\n",
    "bst.delete(50)\n",
    "print(\"After deleting 50:\")\n",
    "bst.inorder_traversal()\n"
   ]
  }
 ],
 "metadata": {
  "kernelspec": {
   "display_name": "Python 3",
   "language": "python",
   "name": "python3"
  },
  "language_info": {
   "codemirror_mode": {
    "name": "ipython",
    "version": 3
   },
   "file_extension": ".py",
   "mimetype": "text/x-python",
   "name": "python",
   "nbconvert_exporter": "python",
   "pygments_lexer": "ipython3",
   "version": "3.13.0"
  }
 },
 "nbformat": 4,
 "nbformat_minor": 5
}

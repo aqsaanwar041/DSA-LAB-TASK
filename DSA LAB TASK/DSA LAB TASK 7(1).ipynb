{
 "cells": [
  {
   "cell_type": "code",
   "execution_count": null,
   "id": "d78a7703",
   "metadata": {},
   "outputs": [],
   "source": [
    "TASK 7(1)"
   ]
  },
  {
   "cell_type": "code",
   "execution_count": 1,
   "id": "ca8c890a",
   "metadata": {},
   "outputs": [],
   "source": [
    "class Heap:\n",
    "    def __init__(self, heap_type=\"min\"):\n",
    "        self.data = []\n",
    "        self.heap_type = heap_type  \n",
    "\n",
    "    def _compare(self, a, b):\n",
    "        return a < b if self.heap_type == \"min\" else a > b\n",
    "\n",
    "    def insert(self, value):\n",
    "        self.data.append(value)\n",
    "        self._sift_up(len(self.data) - 1)\n",
    "\n",
    "    def _sift_up(self, index):\n",
    "        parent = (index - 1) // 2\n",
    "        while index > 0 and self._compare(self.data[index], self.data[parent]):\n",
    "            self.data[index], self.data[parent] = self.data[parent], self.data[index]\n",
    "            index = parent\n",
    "            parent = (index - 1) // 2\n",
    "\n",
    "    def extract_root(self):\n",
    "        if not self.data:\n",
    "            return None\n",
    "        root = self.data[0]\n",
    "        last = self.data.pop()\n",
    "        if self.data:\n",
    "            self.data[0] = last\n",
    "            self._sift_down(0)\n",
    "        return root\n",
    "\n",
    "    def _sift_down(self, index):\n",
    "        size = len(self.data)\n",
    "        while index < size:\n",
    "            left = 2 * index + 1\n",
    "            right = 2 * index + 2\n",
    "            smallest_or_largest = index\n",
    "\n",
    "            if left < size and self._compare(self.data[left], self.data[smallest_or_largest]):\n",
    "                smallest_or_largest = left\n",
    "            if right < size and self._compare(self.data[right], self.data[smallest_or_largest]):\n",
    "                smallest_or_largest = right\n",
    "\n",
    "            if smallest_or_largest == index:\n",
    "                break\n",
    "\n",
    "            self.data[index], self.data[smallest_or_largest] = self.data[smallest_or_largest], self.data[index]\n",
    "            index = smallest_or_largest\n",
    "\n",
    "    def peek(self):\n",
    "        return self.data[0] if self.data else None\n",
    "\n",
    "    def heapify(self, array):\n",
    "        self.data = array[:]\n",
    "        for i in range(len(self.data) // 2 - 1, -1, -1):\n",
    "            self._sift_down(i)\n"
   ]
  },
  {
   "cell_type": "code",
   "execution_count": 2,
   "id": "0718fd82",
   "metadata": {},
   "outputs": [
    {
     "name": "stdout",
     "output_type": "stream",
     "text": [
      "Min-Heap Example:\n",
      "2\n",
      "\n",
      "Max-Heap Example:\n",
      "20\n",
      "\n",
      "Heapify Example:\n",
      "1\n"
     ]
    }
   ],
   "source": [
    "\n",
    "print(\"Min-Heap Example:\")\n",
    "min_heap = Heap(\"min\")\n",
    "min_heap.insert(10)\n",
    "min_heap.insert(5)\n",
    "min_heap.insert(20)\n",
    "min_heap.insert(2)\n",
    "print(min_heap.extract_root()) \n",
    "\n",
    "print(\"\\nMax-Heap Example:\")\n",
    "max_heap = Heap(\"max\")\n",
    "max_heap.insert(10)\n",
    "max_heap.insert(5)\n",
    "max_heap.insert(20)\n",
    "max_heap.insert(2)\n",
    "print(max_heap.extract_root())  \n",
    "\n",
    "print(\"\\nHeapify Example:\")\n",
    "h = Heap(\"min\")\n",
    "h.heapify([5, 3, 8, 1, 9])\n",
    "print(h.extract_root())  \n"
   ]
  }
 ],
 "metadata": {
  "kernelspec": {
   "display_name": "Python 3",
   "language": "python",
   "name": "python3"
  },
  "language_info": {
   "codemirror_mode": {
    "name": "ipython",
    "version": 3
   },
   "file_extension": ".py",
   "mimetype": "text/x-python",
   "name": "python",
   "nbconvert_exporter": "python",
   "pygments_lexer": "ipython3",
   "version": "3.13.0"
  }
 },
 "nbformat": 4,
 "nbformat_minor": 5
}

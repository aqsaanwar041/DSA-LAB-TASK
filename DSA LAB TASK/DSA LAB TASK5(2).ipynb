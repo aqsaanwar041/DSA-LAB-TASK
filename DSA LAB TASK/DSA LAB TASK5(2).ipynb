{
 "cells": [
  {
   "cell_type": "code",
   "execution_count": null,
   "metadata": {},
   "outputs": [],
   "source": [
    "TASK 5 (2)"
   ]
  },
  {
   "cell_type": "code",
   "execution_count": 1,
   "metadata": {},
   "outputs": [],
   "source": [
    "def are_anagrams(str1, str2):\n",
    "     \n",
    "    if len(str1) != len(str2):\n",
    "        return False\n",
    "\n",
    "    char_count = {}\n",
    "\n",
    "    for char in str1:\n",
    "    \n",
    "        char_count[char] = char_count.get(char, 0) + 1\n",
    "\n",
    "    for char in str2:\n",
    "        if char not in char_count:\n",
    "            return False \n",
    "        char_count[char] -= 1\n",
    "        if char_count[char] < 0:\n",
    "            return False\n",
    "    return True "
   ]
  },
  {
   "cell_type": "code",
   "execution_count": 2,
   "metadata": {},
   "outputs": [
    {
     "name": "stdout",
     "output_type": "stream",
     "text": [
      "True\n",
      "True\n",
      "True\n",
      "False\n",
      "True\n"
     ]
    }
   ],
   "source": [
    "print(are_anagrams(\"listen\", \"silent\"))     \n",
    "print(are_anagrams(\"triangle\", \"integral\")) \n",
    "print(are_anagrams(\"aabbcc\", \"baccab\"))     \n",
    "print(are_anagrams(\"test\", \"ttew\"))         \n",
    "\n",
    "print(are_anagrams(\"a\"*100000, \"a\"*100000)) \n"
   ]
  }
 ],
 "metadata": {
  "kernelspec": {
   "display_name": "Python 3",
   "language": "python",
   "name": "python3"
  },
  "language_info": {
   "codemirror_mode": {
    "name": "ipython",
    "version": 3
   },
   "file_extension": ".py",
   "mimetype": "text/x-python",
   "name": "python",
   "nbconvert_exporter": "python",
   "pygments_lexer": "ipython3",
   "version": "3.13.0"
  }
 },
 "nbformat": 4,
 "nbformat_minor": 2
}

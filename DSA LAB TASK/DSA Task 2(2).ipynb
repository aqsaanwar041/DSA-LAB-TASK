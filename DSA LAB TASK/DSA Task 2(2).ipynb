{
 "cells": [
  {
   "cell_type": "code",
   "execution_count": null,
   "id": "c3b14103",
   "metadata": {},
   "outputs": [],
   "source": [
    "task 2 (2)"
   ]
  },
  {
   "cell_type": "code",
   "execution_count": 1,
   "id": "416f4cb0",
   "metadata": {},
   "outputs": [],
   "source": [
    "import time\n",
    "\n",
    "def longest_substring_brute_force(s):\n",
    "    n = len(s)\n",
    "    max_len = 0\n",
    "    longest = \"\"\n",
    "\n",
    "    for i in range(n):\n",
    "        seen = set()\n",
    "        for j in range(i, n):\n",
    "            if s[j] in seen:\n",
    "                break\n",
    "            seen.add(s[j])\n",
    "            if j - i + 1 > max_len:\n",
    "                max_len = j - i + 1\n",
    "                longest = s[i:j+1]\n",
    "    \n",
    "    return longest, max_len\n"
   ]
  },
  {
   "cell_type": "code",
   "execution_count": 2,
   "id": "3e080da3",
   "metadata": {},
   "outputs": [],
   "source": [
    "def longest_substring_sliding_window(s):\n",
    "    start = 0\n",
    "    max_len = 0\n",
    "    longest = \"\"\n",
    "    seen = {}\n",
    "\n",
    "    for end in range(len(s)):\n",
    "        if s[end] in seen and seen[s[end]] >= start:\n",
    "            start = seen[s[end]] + 1\n",
    "        seen[s[end]] = end\n",
    "        if end - start + 1 > max_len:\n",
    "            max_len = end - start + 1\n",
    "            longest = s[start:end+1]\n",
    "\n",
    "    return longest, max_len\n"
   ]
  },
  {
   "cell_type": "code",
   "execution_count": 3,
   "id": "e84f4bce",
   "metadata": {},
   "outputs": [
    {
     "name": "stdout",
     "output_type": "stream",
     "text": [
      "\n",
      "Input: abcabcbb\n",
      "Brute Force: ('abc', 3), Time: 0.000028s\n",
      "Sliding Window: ('abc', 3), Time: 0.000014s\n",
      "\n",
      "Input: bbbbb\n",
      "Brute Force: ('b', 1), Time: 0.000011s\n",
      "Sliding Window: ('b', 1), Time: 0.000008s\n",
      "\n",
      "Input: pwwkew\n",
      "Brute Force: ('wke', 3), Time: 0.000014s\n",
      "Sliding Window: ('wke', 3), Time: 0.000007s\n",
      "\n",
      "Input: \n",
      "Brute Force: ('', 0), Time: 0.000002s\n",
      "Sliding Window: ('', 0), Time: 0.000002s\n",
      "\n",
      "Input: abcdefg\n",
      "Brute Force: ('abcdefg', 7), Time: 0.000026s\n",
      "Sliding Window: ('abcdefg', 7), Time: 0.000010s\n",
      "\n",
      "Input: abba\n",
      "Brute Force: ('ab', 2), Time: 0.000008s\n",
      "Sliding Window: ('ab', 2), Time: 0.000005s\n",
      "\n",
      "Input: dvdf\n",
      "Brute Force: ('vdf', 3), Time: 0.000010s\n",
      "Sliding Window: ('vdf', 3), Time: 0.000005s\n"
     ]
    }
   ],
   "source": [
    "def test_cases():\n",
    "    test_strings = [\n",
    "        \"abcabcbb\",      \n",
    "        \"bbbbb\",         \n",
    "        \"pwwkew\",       \n",
    "        \"\",             \n",
    "        \"abcdefg\",       \n",
    "        \"abba\",          \n",
    "        \"dvdf\",          \n",
    "    ]\n",
    "\n",
    "    for s in test_strings:\n",
    "        print(f\"\\nInput: {s}\")\n",
    "\n",
    "        start = time.time()\n",
    "        result_bf = longest_substring_brute_force(s)\n",
    "        end = time.time()\n",
    "        print(f\"Brute Force: {result_bf}, Time: {end - start:.6f}s\")\n",
    "\n",
    "        start = time.time()\n",
    "        result_sw = longest_substring_sliding_window(s)\n",
    "        end = time.time()\n",
    "        print(f\"Sliding Window: {result_sw}, Time: {end - start:.6f}s\")\n",
    "\n",
    "test_cases()\n"
   ]
  }
 ],
 "metadata": {
  "kernelspec": {
   "display_name": "Python 3",
   "language": "python",
   "name": "python3"
  },
  "language_info": {
   "codemirror_mode": {
    "name": "ipython",
    "version": 3
   },
   "file_extension": ".py",
   "mimetype": "text/x-python",
   "name": "python",
   "nbconvert_exporter": "python",
   "pygments_lexer": "ipython3",
   "version": "3.13.0"
  }
 },
 "nbformat": 4,
 "nbformat_minor": 5
}

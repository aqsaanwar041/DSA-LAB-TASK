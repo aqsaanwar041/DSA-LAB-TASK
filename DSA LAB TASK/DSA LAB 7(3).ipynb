{
 "cells": [
  {
   "cell_type": "code",
   "execution_count": null,
   "id": "6dc4ca50",
   "metadata": {},
   "outputs": [],
   "source": [
    "TASK 7(3)"
   ]
  },
  {
   "cell_type": "code",
   "execution_count": 1,
   "id": "68af568d",
   "metadata": {},
   "outputs": [],
   "source": [
    "import heapq\n",
    "def find_k_smallest(arr, k):\n",
    "    return heapq.nsmallest(k, arr)\n",
    "def find_k_largest(arr, k):\n",
    "    return heapq.nlargest(k, arr)\n"
   ]
  },
  {
   "cell_type": "code",
   "execution_count": 3,
   "id": "b253ebd1",
   "metadata": {},
   "outputs": [
    {
     "name": "stdout",
     "output_type": "stream",
     "text": [
      "K Smallest (k=3): [3, 4, 7]\n",
      "K Largest (k=2): [20, 15]\n",
      "K Smallest (k=4): [5, 10, 25, 60]\n",
      "K Largest (k=3): [100, 80, 60]\n"
     ]
    }
   ],
   "source": [
    "arr = [10, 4, 3, 20, 15, 7]\n",
    "\n",
    "print(\"K Smallest (k=3):\", find_k_smallest(arr, 3))  \n",
    "print(\"K Largest (k=2):\", find_k_largest(arr, 2))\n",
    "arr2 = [100, 5, 25, 80, 60, 10]\n",
    "print(\"K Smallest (k=4):\", find_k_smallest(arr2, 4))  \n",
    "print(\"K Largest (k=3):\", find_k_largest(arr2, 3))    \n"
   ]
  }
 ],
 "metadata": {
  "kernelspec": {
   "display_name": "Python 3",
   "language": "python",
   "name": "python3"
  },
  "language_info": {
   "codemirror_mode": {
    "name": "ipython",
    "version": 3
   },
   "file_extension": ".py",
   "mimetype": "text/x-python",
   "name": "python",
   "nbconvert_exporter": "python",
   "pygments_lexer": "ipython3",
   "version": "3.13.0"
  }
 },
 "nbformat": 4,
 "nbformat_minor": 5
}

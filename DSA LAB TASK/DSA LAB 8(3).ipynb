{
 "cells": [
  {
   "cell_type": "code",
   "execution_count": null,
   "id": "1625d994",
   "metadata": {},
   "outputs": [],
   "source": [
    "TASK 3\n"
   ]
  },
  {
   "cell_type": "code",
   "execution_count": 1,
   "id": "ae0d1509",
   "metadata": {},
   "outputs": [],
   "source": [
    "import heapq\n",
    "\n",
    "def dijkstra(graph, start):\n",
    "    \n",
    "    distances = {node: float('inf') for node in graph}\n",
    "    distances[start] = 0\n",
    "\n",
    "    pq = [(0, start)]\n",
    "\n",
    "    while pq:\n",
    "        current_distance, current_node = heapq.heappop(pq)\n",
    "        if current_distance > distances[current_node]:\n",
    "            continue\n",
    "\n",
    "        for neighbor, weight in graph[current_node].items():\n",
    "            distance = current_distance + weight\n",
    "\n",
    "            if distance < distances[neighbor]:\n",
    "                distances[neighbor] = distance\n",
    "                heapq.heappush(pq, (distance, neighbor))\n",
    "\n",
    "    return distances\n"
   ]
  },
  {
   "cell_type": "code",
   "execution_count": 2,
   "id": "749c7fdc",
   "metadata": {},
   "outputs": [
    {
     "name": "stdout",
     "output_type": "stream",
     "text": [
      "{'A': 0, 'B': 3, 'C': 1, 'D': 8}\n"
     ]
    }
   ],
   "source": [
    "graph = {\n",
    "    'A': {'B': 4, 'C': 1},\n",
    "    'B': {'A': 4, 'C': 2, 'D': 5},\n",
    "    'C': {'A': 1, 'B': 2, 'D': 8},\n",
    "    'D': {'B': 5, 'C': 8}\n",
    "}\n",
    "\n",
    "print(dijkstra(graph, 'A'))\n",
    "\n"
   ]
  },
  {
   "cell_type": "code",
   "execution_count": 3,
   "id": "a0856d33",
   "metadata": {},
   "outputs": [
    {
     "name": "stdout",
     "output_type": "stream",
     "text": [
      "{'A': 0, 'B': 2, 'C': inf}\n",
      "{'A': 0, 'B': 1, 'C': 3, 'D': 4}\n"
     ]
    }
   ],
   "source": [
    "\n",
    "graph2 = {\n",
    "    'A': {'B': 2},\n",
    "    'B': {'A': 2},\n",
    "    'C': {}  \n",
    "}\n",
    "print(dijkstra(graph2, 'A'))\n",
    "\n",
    "\n",
    "\n",
    "graph3 = {\n",
    "    'A': {'B': 1, 'C': 4},\n",
    "    'B': {'C': 2, 'D': 5},\n",
    "    'C': {'D': 1},\n",
    "    'D': {}\n",
    "}\n",
    "print(dijkstra(graph3, 'A'))\n",
    "\n"
   ]
  }
 ],
 "metadata": {
  "kernelspec": {
   "display_name": "Python 3",
   "language": "python",
   "name": "python3"
  },
  "language_info": {
   "codemirror_mode": {
    "name": "ipython",
    "version": 3
   },
   "file_extension": ".py",
   "mimetype": "text/x-python",
   "name": "python",
   "nbconvert_exporter": "python",
   "pygments_lexer": "ipython3",
   "version": "3.13.0"
  }
 },
 "nbformat": 4,
 "nbformat_minor": 5
}

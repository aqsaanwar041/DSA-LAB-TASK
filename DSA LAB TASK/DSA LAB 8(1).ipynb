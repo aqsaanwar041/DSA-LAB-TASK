{
 "cells": [
  {
   "cell_type": "code",
   "execution_count": null,
   "id": "cfb293c1",
   "metadata": {},
   "outputs": [],
   "source": [
    "lab task 8(1\n",
    "           )"
   ]
  },
  {
   "cell_type": "code",
   "execution_count": 1,
   "id": "4a1d7ba9",
   "metadata": {},
   "outputs": [],
   "source": [
    "class Graph:\n",
    "    def __init__(self, num_vertices, directed=False):\n",
    "        self.num_vertices = num_vertices\n",
    "        self.directed = directed\n",
    "\n",
    "        self.adj_list = {i: [] for i in range(num_vertices)}\n",
    "\n",
    "        self.adj_matrix = [[0] * num_vertices for _ in range(num_vertices)]\n",
    "\n",
    "    def add_edge(self, v1, v2):\n",
    "        self.adj_list[v1].append(v2)\n",
    "        if not self.directed:\n",
    "            self.adj_list[v2].append(v1)\n",
    "\n",
    "        self.adj_matrix[v1][v2] = 1\n",
    "        if not self.directed:\n",
    "            self.adj_matrix[v2][v1] = 1\n",
    "\n",
    "    def remove_edge(self, v1, v2):\n",
    "        if v2 in self.adj_list[v1]:\n",
    "            self.adj_list[v1].remove(v2)\n",
    "        if not self.directed and v1 in self.adj_list[v2]:\n",
    "            self.adj_list[v2].remove(v1)\n",
    "\n",
    "        self.adj_matrix[v1][v2] = 0\n",
    "        if not self.directed:\n",
    "            self.adj_matrix[v2][v1] = 0\n",
    "\n",
    "    def display(self):\n",
    "        print(\"Adjacency List:\")\n",
    "        for vertex in self.adj_list:\n",
    "            print(f\"{vertex}: {self.adj_list[vertex]}\")\n",
    "        \n",
    "        print(\"\\nAdjacency Matrix:\")\n",
    "        for row in self.adj_matrix:\n",
    "            print(row)\n"
   ]
  },
  {
   "cell_type": "code",
   "execution_count": 2,
   "id": "bc3e0111",
   "metadata": {},
   "outputs": [
    {
     "name": "stdout",
     "output_type": "stream",
     "text": [
      "Adjacency List:\n",
      "0: [1, 2]\n",
      "1: [0, 3]\n",
      "2: [0, 4]\n",
      "3: [1]\n",
      "4: [2]\n",
      "\n",
      "Adjacency Matrix:\n",
      "[0, 1, 1, 0, 0]\n",
      "[1, 0, 0, 1, 0]\n",
      "[1, 0, 0, 0, 1]\n",
      "[0, 1, 0, 0, 0]\n",
      "[0, 0, 1, 0, 0]\n",
      "\n",
      "After removing edge (0, 1):\n",
      "Adjacency List:\n",
      "0: [2]\n",
      "1: [3]\n",
      "2: [0, 4]\n",
      "3: [1]\n",
      "4: [2]\n",
      "\n",
      "Adjacency Matrix:\n",
      "[0, 0, 1, 0, 0]\n",
      "[0, 0, 0, 1, 0]\n",
      "[1, 0, 0, 0, 1]\n",
      "[0, 1, 0, 0, 0]\n",
      "[0, 0, 1, 0, 0]\n"
     ]
    }
   ],
   "source": [
    "\n",
    "g = Graph(5)\n",
    "\n",
    "g.add_edge(0, 1)\n",
    "g.add_edge(0, 2)\n",
    "g.add_edge(1, 3)\n",
    "g.add_edge(2, 4)\n",
    "\n",
    "g.display()\n",
    "\n",
    "print(\"\\nAfter removing edge (0, 1):\")\n",
    "g.remove_edge(0, 1)\n",
    "g.display()\n"
   ]
  }
 ],
 "metadata": {
  "kernelspec": {
   "display_name": "Python 3",
   "language": "python",
   "name": "python3"
  },
  "language_info": {
   "codemirror_mode": {
    "name": "ipython",
    "version": 3
   },
   "file_extension": ".py",
   "mimetype": "text/x-python",
   "name": "python",
   "nbconvert_exporter": "python",
   "pygments_lexer": "ipython3",
   "version": "3.13.0"
  }
 },
 "nbformat": 4,
 "nbformat_minor": 5
}

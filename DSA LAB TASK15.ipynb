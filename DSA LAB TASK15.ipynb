{
 "cells": [
  {
   "cell_type": "code",
   "execution_count": null,
   "id": "92a6422b",
   "metadata": {},
   "outputs": [],
   "source": [
    "TASK15"
   ]
  },
  {
   "cell_type": "code",
   "execution_count": 1,
   "id": "c388da04",
   "metadata": {},
   "outputs": [],
   "source": [
    "def solve_n_queens(n):\n",
    "    def is_safe(row, col):\n",
    "        return col not in cols and (row - col) not in diag1 and (row + col) not in diag2\n",
    "\n",
    "    def backtrack(row, path):\n",
    "        if row == n:\n",
    "            result.append([''.join(r) for r in path])\n",
    "            return\n",
    "        for col in range(n):\n",
    "            if is_safe(row, col):\n",
    "                path[row][col] = 'Q'\n",
    "                cols.add(col)\n",
    "                diag1.add(row - col)\n",
    "                diag2.add(row + col)\n",
    "                backtrack(row + 1, path)\n",
    "                path[row][col] = '.'\n",
    "                cols.remove(col)\n",
    "                diag1.remove(row - col)\n",
    "                diag2.remove(row + col)\n",
    "\n",
    "    result = []\n",
    "    cols = set()\n",
    "    diag1 = set()\n",
    "    diag2 = set()\n",
    "    board = [['.' for _ in range(n)] for _ in range(n)]\n",
    "    backtrack(0, board)\n",
    "    return result\n"
   ]
  },
  {
   "cell_type": "code",
   "execution_count": 3,
   "id": "6d11d4ba",
   "metadata": {},
   "outputs": [],
   "source": [
    "def solve_n_queens_optimized(n):\n",
    "    def backtrack(row, columns, diag1, diag2, board):\n",
    "        if row == n:\n",
    "            result.append([''.join(r) for r in board])\n",
    "            return\n",
    "        for col in range(n):\n",
    "            if col in columns or (row - col) in diag1 or (row + col) in diag2:\n",
    "                continue\n",
    "            board[row][col] = 'Q'\n",
    "            backtrack(row + 1, columns | {col}, diag1 | {row - col}, diag2 | {row + col}, board)\n",
    "            board[row][col] = '.'\n",
    "\n",
    "    result = []\n",
    "    board = [['.' for _ in range(n)] for _ in range(n)]\n",
    "    backtrack(0, set(), set(), set(), board)\n",
    "    return result\n"
   ]
  },
  {
   "cell_type": "code",
   "execution_count": 4,
   "id": "c1be0499",
   "metadata": {},
   "outputs": [
    {
     "data": {
      "text/plain": [
       "[['.Q..', '...Q', 'Q...', '..Q.'], ['..Q.', 'Q...', '...Q', '.Q..']]"
      ]
     },
     "execution_count": 4,
     "metadata": {},
     "output_type": "execute_result"
    }
   ],
   "source": [
    "[\n",
    " [\".Q..\",\n",
    "  \"...Q\",\n",
    "  \"Q...\",\n",
    "  \"..Q.\"],\n",
    "\n",
    " [\"..Q.\",\n",
    "  \"Q...\",\n",
    "  \"...Q\",\n",
    "  \".Q..\"]\n",
    "]\n"
   ]
  },
  {
   "cell_type": "code",
   "execution_count": null,
   "id": "30918a68",
   "metadata": {},
   "outputs": [],
   "source": [
    "TASK2"
   ]
  },
  {
   "cell_type": "code",
   "execution_count": 5,
   "id": "292330dd",
   "metadata": {},
   "outputs": [],
   "source": [
    "def permute_string(s):\n",
    "    def backtrack(start):\n",
    "        if start == len(chars):\n",
    "            result.append(''.join(chars))\n",
    "            return\n",
    "        seen = set()\n",
    "        for i in range(start, len(chars)):\n",
    "            if chars[i] in seen:\n",
    "                continue\n",
    "            seen.add(chars[i])\n",
    "            chars[start], chars[i] = chars[i], chars[start]\n",
    "            backtrack(start + 1)\n",
    "            chars[start], chars[i] = chars[i], chars[start]\n",
    "\n",
    "    result = []\n",
    "    chars = list(s)\n",
    "    backtrack(0)\n",
    "    return result\n"
   ]
  },
  {
   "cell_type": "code",
   "execution_count": 6,
   "id": "f37c5771",
   "metadata": {},
   "outputs": [
    {
     "data": {
      "text/plain": [
       "['abc', 'acb', 'bac', 'bca', 'cba', 'cab']"
      ]
     },
     "execution_count": 6,
     "metadata": {},
     "output_type": "execute_result"
    }
   ],
   "source": [
    "permute_string(\"abc\")\n"
   ]
  },
  {
   "cell_type": "code",
   "execution_count": null,
   "id": "961cbc40",
   "metadata": {},
   "outputs": [],
   "source": [
    "TASK3"
   ]
  },
  {
   "cell_type": "code",
   "execution_count": 7,
   "id": "22332869",
   "metadata": {},
   "outputs": [],
   "source": [
    "def print_board(board):\n",
    "    for row in board:\n",
    "        print(row)\n",
    "\n",
    "def is_valid(board, row, col, num):\n",
    "    \n",
    "    if num in board[row]:\n",
    "        return False\n",
    "\n",
    "    \n",
    "    for i in range(9):\n",
    "        if board[i][col] == num:\n",
    "            return False\n",
    "\n",
    "   \n",
    "    box_row_start = (row // 3)\n"
   ]
  },
  {
   "cell_type": "code",
   "execution_count": 8,
   "id": "b332ce64",
   "metadata": {},
   "outputs": [
    {
     "name": "stdout",
     "output_type": "stream",
     "text": [
      "Solved Sudoku Board:\n",
      "[5, 3, 4, 6, 7, 8, 9, 1, 2]\n",
      "[6, 7, 2, 1, 9, 5, 3, 4, 8]\n",
      "[1, 9, 8, 3, 4, 2, 5, 6, 7]\n",
      "[8, 5, 9, 7, 6, 1, 4, 2, 3]\n",
      "[4, 2, 6, 8, 5, 3, 7, 9, 1]\n",
      "[7, 1, 3, 9, 2, 4, 8, 5, 6]\n",
      "[9, 6, 1, 5, 3, 7, 2, 8, 4]\n",
      "[2, 8, 7, 4, 1, 9, 6, 3, 5]\n",
      "[3, 4, 5, 2, 8, 6, 1, 7, 9]\n"
     ]
    }
   ],
   "source": [
    "def print_board(board):\n",
    "    for row in board:\n",
    "        print(row)\n",
    "\n",
    "def is_valid(board, row, col, num):\n",
    "   \n",
    "    if num in board[row]:\n",
    "        return False\n",
    "\n",
    "    \n",
    "    for i in range(9):\n",
    "        if board[i][col] == num:\n",
    "            return False\n",
    "    box_row_start = (row // 3) * 3\n",
    "    box_col_start = (col // 3) * 3\n",
    "    for i in range(3):\n",
    "        for j in range(3):\n",
    "            if board[box_row_start + i][box_col_start + j] == num:\n",
    "                return False\n",
    "\n",
    "    return True\n",
    "\n",
    "def find_empty(board):\n",
    "    for i in range(9):\n",
    "        for j in range(9):\n",
    "            if board[i][j] == 0:\n",
    "                return i, j\n",
    "    return None\n",
    "\n",
    "def get_candidates(board, row, col):\n",
    "    possible = set(range(1, 10))\n",
    "    \n",
    "    possible -= set(board[row])\n",
    "    \n",
    "    possible -= {board[i][col] for i in range(9)}\n",
    "    \n",
    "    box_row_start = (row // 3) * 3\n",
    "    box_col_start = (col // 3) * 3\n",
    "    for i in range(3):\n",
    "        for j in range(3):\n",
    "            val = board[box_row_start + i][box_col_start + j]\n",
    "            possible.discard(val)\n",
    "    return list(possible)\n",
    "\n",
    "def solve_sudoku(board):\n",
    "    empty = find_empty(board)\n",
    "    if not empty:\n",
    "        return True \n",
    "\n",
    "    row, col = empty\n",
    "    candidates = get_candidates(board, row, col)  \n",
    "    for num in candidates:\n",
    "        if is_valid(board, row, col, num):\n",
    "            board[row][col] = num\n",
    "            if solve_sudoku(board):\n",
    "                return True\n",
    "            board[row][col] = 0 \n",
    "\n",
    "    return False\n",
    "\n",
    "\n",
    "sudoku_board = [\n",
    "    [5, 3, 0, 0, 7, 0, 0, 0, 0],\n",
    "    [6, 0, 0, 1, 9, 5, 0, 0, 0],\n",
    "    [0, 9, 8, 0, 0, 0, 0, 6, 0],\n",
    "    [8, 0, 0, 0, 6, 0, 0, 0, 3],\n",
    "    [4, 0, 0, 8, 0, 3, 0, 0, 1],\n",
    "    [7, 0, 0, 0, 2, 0, 0, 0, 6],\n",
    "    [0, 6, 0, 0, 0, 0, 2, 8, 0],\n",
    "    [0, 0, 0, 4, 1, 9, 0, 0, 5],\n",
    "    [0, 0, 0, 0, 8, 0, 0, 7, 9]\n",
    "]\n",
    "\n",
    "if solve_sudoku(sudoku_board):\n",
    "    print(\"Solved Sudoku Board:\")\n",
    "    print_board(sudoku_board)\n",
    "else:\n",
    "    print(\"No solution exists.\")\n"
   ]
  }
 ],
 "metadata": {
  "kernelspec": {
   "display_name": "Python 3",
   "language": "python",
   "name": "python3"
  },
  "language_info": {
   "codemirror_mode": {
    "name": "ipython",
    "version": 3
   },
   "file_extension": ".py",
   "mimetype": "text/x-python",
   "name": "python",
   "nbconvert_exporter": "python",
   "pygments_lexer": "ipython3",
   "version": "3.12.7"
  }
 },
 "nbformat": 4,
 "nbformat_minor": 5
}

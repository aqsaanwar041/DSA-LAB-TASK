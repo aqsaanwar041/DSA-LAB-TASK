{
 "cells": [
  {
   "cell_type": "code",
   "execution_count": null,
   "id": "72f007fb",
   "metadata": {},
   "outputs": [],
   "source": [
    "DSA TASK 10(1)"
   ]
  },
  {
   "cell_type": "code",
   "execution_count": 1,
   "id": "10e2a5f8",
   "metadata": {},
   "outputs": [],
   "source": [
    "def linear_search(arr, target):\n",
    "    for i in range(len(arr)):\n",
    "        if arr[i] == target:\n",
    "            return i\n",
    "    return -1\n"
   ]
  },
  {
   "cell_type": "code",
   "execution_count": 2,
   "id": "83e0d342",
   "metadata": {},
   "outputs": [],
   "source": [
    "def binary_search(arr, target):\n",
    "    low = 0\n",
    "    high = len(arr) - 1\n",
    "\n",
    "    while low <= high:\n",
    "        mid = (low + high) // 2\n",
    "        if arr[mid] == target:\n",
    "            return mid\n",
    "        elif arr[mid] < target:\n",
    "            low = mid + 1\n",
    "        else:\n",
    "            high = mid - 1\n",
    "    return -1\n"
   ]
  },
  {
   "cell_type": "code",
   "execution_count": 3,
   "id": "a44ad663",
   "metadata": {},
   "outputs": [],
   "source": [
    "import time\n",
    "import random\n",
    "\n",
    "def compare_search_algorithms():\n",
    "    sizes = [1000, 5000, 10000]\n",
    "    target = -1  \n",
    "\n",
    "    print(f\"{'Size':<10}{'Linear Time (s)':<20}{'Binary Time (s)':<20}\")\n",
    "    print(\"-\" * 50)\n",
    "\n",
    "    for size in sizes:\n",
    "        arr = [random.randint(1, size * 10) for _ in range(size)]\n",
    "        sorted_arr = sorted(arr)\n",
    "        start = time.time()\n",
    "        linear_search(arr, target)\n",
    "        linear_time = time.time() - start\n",
    "        start = time.time()\n",
    "        binary_search(sorted_arr, target)\n",
    "        binary_time = time.time() - start\n",
    "\n",
    "        print(f\"{size:<10}{linear_time:<20.6f}{binary_time:<20.6f}\")\n"
   ]
  },
  {
   "cell_type": "code",
   "execution_count": 4,
   "id": "e3bbb6c0",
   "metadata": {},
   "outputs": [
    {
     "name": "stdout",
     "output_type": "stream",
     "text": [
      "Linear Search Test:\n",
      "2\n",
      "-1\n",
      "\n",
      "Binary Search Test:\n",
      "3\n",
      "-1\n"
     ]
    }
   ],
   "source": [
    "\n",
    "print(\"Linear Search Test:\")\n",
    "arr = [10, 23, 45, 70, 11, 15]\n",
    "print(linear_search(arr, 45))  \n",
    "print(linear_search(arr, 100))  \n",
    "print(\"\\nBinary Search Test:\")\n",
    "sorted_arr = [10, 15, 23, 45, 70]\n",
    "print(binary_search(sorted_arr, 45))  \n",
    "print(binary_search(sorted_arr, 100))  "
   ]
  }
 ],
 "metadata": {
  "kernelspec": {
   "display_name": "Python 3",
   "language": "python",
   "name": "python3"
  },
  "language_info": {
   "codemirror_mode": {
    "name": "ipython",
    "version": 3
   },
   "file_extension": ".py",
   "mimetype": "text/x-python",
   "name": "python",
   "nbconvert_exporter": "python",
   "pygments_lexer": "ipython3",
   "version": "3.12.7"
  }
 },
 "nbformat": 4,
 "nbformat_minor": 5
}

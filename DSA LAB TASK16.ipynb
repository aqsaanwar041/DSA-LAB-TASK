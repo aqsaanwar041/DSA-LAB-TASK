{
 "cells": [
  {
   "cell_type": "code",
   "execution_count": null,
   "id": "1ab90518",
   "metadata": {},
   "outputs": [],
   "source": [
    "TASK16(1)"
   ]
  },
  {
   "cell_type": "code",
   "execution_count": 4,
   "id": "0cb53193",
   "metadata": {},
   "outputs": [],
   "source": [
    "def dfs_recursive(graph, node, visited=None):\n",
    "    if visited is None:\n",
    "        visited = []\n",
    "    visited.append(node)\n",
    "    for neighbor in graph[node]:\n",
    "        if neighbor not in visited:\n",
    "            dfs_recursive(graph, neighbor, visited)\n",
    "    return visited\n",
    "\n",
    "def dfs_iterative(graph, start):\n",
    "    visited = []\n",
    "    stack = [start]\n",
    "    while stack:\n",
    "        node = stack.pop()\n",
    "        if node not in visited:\n",
    "            visited.append(node)\n",
    "            stack.extend(reversed(graph[node]))  # reverse to match recursive order\n",
    "    return visited\n"
   ]
  },
  {
   "cell_type": "code",
   "execution_count": 5,
   "id": "1602603b",
   "metadata": {},
   "outputs": [],
   "source": [
    "from collections import deque\n",
    "\n",
    "def bfs(graph, start):\n",
    "    visited = []\n",
    "    queue = deque([start])\n",
    "    while queue:\n",
    "        node = queue.popleft()\n",
    "        if node not in visited:\n",
    "            visited.append(node)\n",
    "            queue.extend(graph[node])\n",
    "    return visited\n"
   ]
  },
  {
   "cell_type": "code",
   "execution_count": 6,
   "id": "49d1434a",
   "metadata": {},
   "outputs": [
    {
     "name": "stdout",
     "output_type": "stream",
     "text": [
      "DFS Recursive: ['A', 'B', 'D', 'E', 'F', 'C']\n",
      "DFS Iterative: ['A', 'B', 'D', 'E', 'F', 'C']\n",
      "BFS: ['A', 'B', 'C', 'D', 'E', 'F']\n"
     ]
    }
   ],
   "source": [
    "graph = {\n",
    "    'A': ['B', 'C'],\n",
    "    'B': ['D', 'E'],\n",
    "    'C': ['F'],\n",
    "    'D': [],\n",
    "    'E': ['F'],\n",
    "    'F': []\n",
    "}\n",
    "\n",
    "print(\"DFS Recursive:\", dfs_recursive(graph, 'A'))  # ['A', 'B', 'D', 'E', 'F', 'C']\n",
    "print(\"DFS Iterative:\", dfs_iterative(graph, 'A'))  # ['A', 'B', 'D', 'E', 'F', 'C']\n",
    "print(\"BFS:\", bfs(graph, 'A'))  # ['A', 'B', 'C', 'D', 'E', 'F']\n"
   ]
  },
  {
   "cell_type": "code",
   "execution_count": null,
   "id": "854756e4",
   "metadata": {},
   "outputs": [],
   "source": [
    "TASK2"
   ]
  },
  {
   "cell_type": "code",
   "execution_count": 7,
   "id": "166b8623",
   "metadata": {},
   "outputs": [],
   "source": [
    "import heapq\n",
    "\n",
    "def dijkstra(graph, start):\n",
    "    distances = {node: float('inf') for node in graph}\n",
    "    distances[start] = 0\n",
    "    pq = [(0, start)]\n",
    "\n",
    "    while pq:\n",
    "        current_distance, current_node = heapq.heappop(pq)\n",
    "\n",
    "        if current_distance > distances[current_node]:\n",
    "            continue\n",
    "\n",
    "        for neighbor, weight in graph[current_node].items():\n",
    "            distance = current_distance + weight\n",
    "            if distance < distances[neighbor]:\n",
    "                distances[neighbor] = distance\n",
    "                heapq.heappush(pq, (distance, neighbor))\n",
    "\n",
    "    return distances\n"
   ]
  },
  {
   "cell_type": "code",
   "execution_count": null,
   "id": "b9cef858",
   "metadata": {},
   "outputs": [
    {
     "name": "stdout",
     "output_type": "stream",
     "text": [
      "Dijkstra: {'A': 0, 'B': 1, 'C': 3, 'D': 4}\n"
     ]
    }
   ],
   "source": [
    "graph = {\n",
    "    'A': {'B': 1, 'C': 4},\n",
    "    'B': {'A': 1, 'C': 2, 'D': 5},\n",
    "    'C': {'A': 4, 'B': 2, 'D': 1},\n",
    "    'D': {'B': 5, 'C': 1}\n",
    "}\n",
    "\n",
    "print(\"Dijkstra:\", dijkstra(graph, 'A'))\n"
   ]
  },
  {
   "cell_type": "code",
   "execution_count": null,
   "id": "ee8b323a",
   "metadata": {},
   "outputs": [],
   "source": [
    "TASK3"
   ]
  },
  {
   "cell_type": "code",
   "execution_count": 9,
   "id": "bcb18f83",
   "metadata": {},
   "outputs": [],
   "source": [
    "class UnionFind:\n",
    "    def __init__(self):\n",
    "        self.parent = {}\n",
    "\n",
    "    def find(self, node):\n",
    "        if node not in self.parent:\n",
    "            self.parent[node] = node\n",
    "        if self.parent[node] != node:\n",
    "            self.parent[node] = self.find(self.parent[node])\n",
    "        return self.parent[node]\n",
    "\n",
    "    def union(self, u, v):\n",
    "        root_u = self.find(u)\n",
    "        root_v = self.find(v)\n",
    "        if root_u == root_v:\n",
    "            return False  \n",
    "        self.parent[root_u] = root_v\n",
    "        return True\n",
    "\n",
    "def detect_cycle_undirected(graph):\n",
    "    uf = UnionFind()\n",
    "    for node in graph:\n",
    "        for neighbor in graph[node]:\n",
    "            if node < neighbor:  \n",
    "                if not uf.union(node, neighbor):\n",
    "                    return True\n",
    "    return False\n"
   ]
  },
  {
   "cell_type": "code",
   "execution_count": 10,
   "id": "e21416e7",
   "metadata": {},
   "outputs": [],
   "source": [
    "def detect_cycle_directed(graph):\n",
    "    visited = set()\n",
    "    rec_stack = set()\n",
    "\n",
    "    def dfs(node):\n",
    "        visited.add(node)\n",
    "        rec_stack.add(node)\n",
    "        for neighbor in graph.get(node, []):\n",
    "            if neighbor not in visited:\n",
    "                if dfs(neighbor):\n",
    "                    return True\n",
    "            elif neighbor in rec_stack:\n",
    "                return True\n",
    "        rec_stack.remove(node)\n",
    "        return False\n",
    "\n",
    "    for node in graph:\n",
    "        if node not in visited:\n",
    "            if dfs(node):\n",
    "                return True\n",
    "    return False\n"
   ]
  },
  {
   "cell_type": "code",
   "execution_count": 11,
   "id": "35884221",
   "metadata": {},
   "outputs": [
    {
     "name": "stdout",
     "output_type": "stream",
     "text": [
      "Undirected Cycle: True\n",
      "Directed Cycle: True\n"
     ]
    }
   ],
   "source": [
    "\n",
    "graph_undirected = {\n",
    "    'A': ['B', 'C'],\n",
    "    'B': ['A', 'D'],\n",
    "    'C': ['A', 'D'],\n",
    "    'D': ['B', 'C']\n",
    "}\n",
    "\n",
    "graph_directed = {\n",
    "    'A': ['B'],\n",
    "    'B': ['C'],\n",
    "    'C': ['A']\n",
    "}\n",
    "\n",
    "print(\"Undirected Cycle:\", detect_cycle_undirected(graph_undirected))  \n",
    "print(\"Directed Cycle:\", detect_cycle_directed(graph_directed))       \n"
   ]
  }
 ],
 "metadata": {
  "kernelspec": {
   "display_name": "Python 3",
   "language": "python",
   "name": "python3"
  },
  "language_info": {
   "codemirror_mode": {
    "name": "ipython",
    "version": 3
   },
   "file_extension": ".py",
   "mimetype": "text/x-python",
   "name": "python",
   "nbconvert_exporter": "python",
   "pygments_lexer": "ipython3",
   "version": "3.12.7"
  }
 },
 "nbformat": 4,
 "nbformat_minor": 5
}

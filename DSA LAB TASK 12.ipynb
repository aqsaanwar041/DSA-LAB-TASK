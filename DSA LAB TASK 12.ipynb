{
 "cells": [
  {
   "cell_type": "code",
   "execution_count": null,
   "id": "db98ff9c",
   "metadata": {},
   "outputs": [],
   "source": [
    "TASK 13(1)"
   ]
  },
  {
   "cell_type": "code",
   "execution_count": 2,
   "id": "6f78cd2f",
   "metadata": {},
   "outputs": [
    {
     "name": "stdout",
     "output_type": "stream",
     "text": [
      "[(1, 3), (6, 8), (8, 11)]\n"
     ]
    }
   ],
   "source": [
    "def activity_selection(activities):\n",
    "    \n",
    "    activities.sort(key=lambda x: x[1])\n",
    "    \n",
    "    selected_activities = []\n",
    "    last_end_time = 0  \n",
    "    \n",
    "    for activity in activities:\n",
    "        start, end = activity\n",
    "\n",
    "        if start >= last_end_time:\n",
    "            selected_activities.append(activity)\n",
    "            last_end_time = end  \n",
    "    \n",
    "    return selected_activities\n",
    "\n",
    "activities = [(1, 3), (2, 5), (3, 9), (6, 8), (8, 11)]\n",
    "print(activity_selection(activities))\n"
   ]
  },
  {
   "cell_type": "code",
   "execution_count": 6,
   "id": "90bf1ea5",
   "metadata": {},
   "outputs": [
    {
     "name": "stdout",
     "output_type": "stream",
     "text": [
      "Encoded Text: 1000000011110011110111100111101100101010111001111010010010011000000111001011101001101101101000110001110111010010100101010111000101111100011111111111001000000\n",
      "Huffman Codes: {'g': '00000', 'l': '00001', 'h': '0001', 'm': '0010', 'o': '0011', 'n': '010', 'p': '01100', 'r': '01101', 's': '0111', 't': '10000', 'u': '10001', 'a': '1001', ' ': '101', 'e': '1100', 'f': '1101', 'i': '1110', 'x': '11110', 'c': '111110', 'd': '111111'}\n"
     ]
    }
   ],
   "source": [
    "import heapq\n",
    "from collections import Counter\n",
    "\n",
    "\n",
    "def build_huffman_tree(text):\n",
    "    \n",
    "    frequency = Counter(text)\n",
    "    \n",
    "    heap = [[weight, [char, \"\"]] for char, weight in frequency.items()]\n",
    "    heapq.heapify(heap)\n",
    "    \n",
    "    while len(heap) > 1:\n",
    "        low = heapq.heappop(heap)\n",
    "        high = heapq.heappop(heap)\n",
    "        \n",
    "        for pair in low[1:]:\n",
    "            pair[1] = '0' + pair[1]\n",
    "        for pair in high[1:]:\n",
    "            pair[1] = '1' + pair[1]\n",
    "        \n",
    "        heapq.heappush(heap, [low[0] + high[0]] + low[1:] + high[1:])\n",
    "    \n",
    "    huffman_tree = heap[0][1:]\n",
    "    huffman_codes = {char: code for char, code in huffman_tree}\n",
    "    \n",
    "    return huffman_codes\n",
    "def huffman_encode(text):\n",
    "    huffman_codes = build_huffman_tree(text)\n",
    "    encoded_text = ''.join(huffman_codes[char] for char in text)\n",
    "    return encoded_text, huffman_codes\n",
    "\n",
    "\n",
    "text = \"this is an example for huffman encoding\"\n",
    "encoded_text, huffman_codes = huffman_encode(text)\n",
    "print(f\"Encoded Text: {encoded_text}\")\n",
    "print(f\"Huffman Codes: {huffman_codes}\")\n"
   ]
  },
  {
   "cell_type": "code",
   "execution_count": null,
   "id": "e2ef0aca",
   "metadata": {},
   "outputs": [],
   "source": [
    "task2"
   ]
  },
  {
   "cell_type": "code",
   "execution_count": 7,
   "id": "15b4e906",
   "metadata": {},
   "outputs": [],
   "source": [
    "import heapq\n",
    "from collections import defaultdict\n",
    "\n",
    "\n",
    "def count_frequency(text):\n",
    "    freq = defaultdict(int)\n",
    "    for char in text:\n",
    "        freq[char] += 1\n",
    "    return frequency\n",
    "class Node:\n",
    "    def __init__(self, char, freq):\n",
    "        self.char = char\n",
    "        self.freq = freq\n",
    "        self.left = None\n",
    "        self.right = None\n",
    "\n",
    "    def __lt__(self, other):\n",
    "        return self.freq < other.freq\n",
    "\n",
    "def build_huffman_tree(freq):\n",
    "\n",
    "    heap = [Node(char, f) for char, f in freq.items()]\n",
    "    heapq.heapify(heap)\n",
    "\n",
    "    while len(heap) > 1:\n",
    "        left = heapq.heappop(heap)\n",
    "        right = heapq.heappop(heap)\n",
    "        merged = Node(None, left.freq + right.freq)\n",
    "        merged.left = left\n",
    "        merged.right = right\n",
    "        heapq.heappush(heap, merged)\n",
    "\n",
    "    return heap[0]\n",
    "\n",
    "\n",
    "def generate_huffman_codes(node, prefix='', codes={}):\n",
    "    if node is None:\n",
    "        return codes\n",
    "\n",
    "    if node.char is not None:\n",
    "        codes[node.char] = prefix\n",
    "\n",
    "    generate_huffman_codes(node.left, prefix + '0', codes)\n",
    "    generate_huffman_codes(node.right, prefix + '1', codes)\n",
    "\n",
    "    return codes\n",
    "\n",
    "\n",
    "def huffman_encoding(text):\n",
    "    freq = count_frequency(text)\n",
    "    root = build_huffman_tree(freq)\n",
    "    huffman_codes = generate_huffman_codes(root)\n",
    "    \n",
    "    encoded_text = ''.join(huffman_codes[char] for char in text)\n",
    "    return huffman_codes, encoded_text\n"
   ]
  },
  {
   "cell_type": "code",
   "execution_count": null,
   "id": "02eeb2b3",
   "metadata": {},
   "outputs": [],
   "source": [
    "Huffman Codes: {'h': '110', 'e': '10', 'l': '111', 'o': '01', 'g': '000', 'r': '001', 'd': '0110', 'y': '0111'}\n",
    "Encoded Text: 110101111010011111100001011011101011110\n",
    "Original size (in bits): 96\n",
    "Compressed size (in bits): 48\n"
   ]
  },
  {
   "cell_type": "code",
   "execution_count": null,
   "id": "b9555fe7",
   "metadata": {},
   "outputs": [],
   "source": [
    "TASK 3"
   ]
  },
  {
   "cell_type": "code",
   "execution_count": null,
   "id": "f880a4b7",
   "metadata": {},
   "outputs": [
    {
     "ename": "SyntaxError",
     "evalue": "closing parenthesis ']' does not match opening parenthesis '(' (19106324.py, line 44)",
     "output_type": "error",
     "traceback": [
      "\u001b[1;36m  Cell \u001b[1;32mIn[10], line 44\u001b[1;36m\u001b[0m\n\u001b[1;33m    edges = [(1, 2]()]\u001b[0m\n\u001b[1;37m                  ^\u001b[0m\n\u001b[1;31mSyntaxError\u001b[0m\u001b[1;31m:\u001b[0m closing parenthesis ']' does not match opening parenthesis '('\n"
     ]
    }
   ],
   "source": [
    "class UnionFind:\n",
    "    def __init__(self, n):\n",
    "        self.parent = list(range(n))\n",
    "        self.rank = [0] * n\n",
    "    \n",
    "    def find(self, u):\n",
    "        if self.parent[u] != u:\n",
    "            self.parent[u] = self.find(self.parent[u])  \n",
    "        return self.parent[u]\n",
    "    \n",
    "    def union(self, u, v):\n",
    "        root_u = self.find(u)\n",
    "        root_v = self.find(v)\n",
    "        \n",
    "        if root_u != root_v:\n",
    "            \n",
    "            if self.rank[root_u] > self.rank[root_v]:\n",
    "                self.parent[root_v] = root_u\n",
    "            elif self.rank[root_u] < self.rank[root_v]:\n",
    "                self.parent[root_u] = root_v\n",
    "            else:\n",
    "                self.parent[root_v] = root_u\n",
    "                self.rank[root_u] += 1\n",
    "            return True\n",
    "        return False\n",
    "\n",
    "def kruskal(edges, n):\n",
    "    uf = UnionFind(n)\n",
    "    \n",
    "    \n",
    "    edges.sort(key=lambda x: x[2])\n",
    "    \n",
    "    mst = []\n",
    "    mst_weight = 0\n",
    "    \n",
    "    \n",
    "    for u, v, weight in edges:\n",
    "        if uf.union(u - 1, v - 1):  \n",
    "            mst.append((u, v, weight))\n",
    "            mst_weight += weight\n",
    "    \n",
    "    return mst\n",
    "\n",
    "edges = [(1, 2]()\n"
   ]
  }
 ],
 "metadata": {
  "kernelspec": {
   "display_name": "Python 3",
   "language": "python",
   "name": "python3"
  },
  "language_info": {
   "codemirror_mode": {
    "name": "ipython",
    "version": 3
   },
   "file_extension": ".py",
   "mimetype": "text/x-python",
   "name": "python",
   "nbconvert_exporter": "python",
   "pygments_lexer": "ipython3",
   "version": "3.12.7"
  }
 },
 "nbformat": 4,
 "nbformat_minor": 5
}

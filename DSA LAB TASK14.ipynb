{
 "cells": [
  {
   "cell_type": "code",
   "execution_count": null,
   "id": "1895b9e3",
   "metadata": {},
   "outputs": [],
   "source": [
    "TASK 14(1)"
   ]
  },
  {
   "cell_type": "code",
   "execution_count": 1,
   "id": "b2ebbec8",
   "metadata": {},
   "outputs": [],
   "source": [
    "def fib_memoization(n, memo={}):\n",
    "    if n in memo:\n",
    "        return memo[n]\n",
    "    if n <= 1:\n",
    "        return n\n",
    "    memo[n] = fib_memoization(n - 1, memo) + fib_memoization(n - 2, memo)\n",
    "    return memo[n]\n"
   ]
  },
  {
   "cell_type": "code",
   "execution_count": 2,
   "id": "4d88d285",
   "metadata": {},
   "outputs": [],
   "source": [
    "def fib_tabulation(n):\n",
    "    if n <= 1:\n",
    "        return n\n",
    "    fib = [0] * (n + 1)\n",
    "    fib[1] = 1\n",
    "    for i in range(2, n + 1):\n",
    "        fib[i] = fib[i - 1] + fib[i - 2]\n",
    "    return fib[n]\n"
   ]
  },
  {
   "cell_type": "code",
   "execution_count": 3,
   "id": "28efa19a",
   "metadata": {},
   "outputs": [
    {
     "name": "stdout",
     "output_type": "stream",
     "text": [
      "55\n",
      "55\n"
     ]
    }
   ],
   "source": [
    "print(fib_memoization(10))  \n",
    "print(fib_tabulation(10))  "
   ]
  },
  {
   "cell_type": "code",
   "execution_count": 4,
   "id": "89fbf8ac",
   "metadata": {},
   "outputs": [
    {
     "name": "stdout",
     "output_type": "stream",
     "text": [
      "Memoization result: 9227465\n",
      "Memoization time: 0.000000 seconds\n",
      "Tabulation result: 9227465\n",
      "Tabulation time: 0.000995 seconds\n"
     ]
    }
   ],
   "source": [
    "import time\n",
    "\n",
    "n = 35\n",
    "\n",
    "start = time.time()\n",
    "print(f\"Memoization result: {fib_memoization(n)}\")\n",
    "print(f\"Memoization time: {time.time() - start:.6f} seconds\")\n",
    "\n",
    "start = time.time()\n",
    "print(f\"Tabulation result: {fib_tabulation(n)}\")\n",
    "print(f\"Tabulation time: {time.time() - start:.6f} seconds\")\n"
   ]
  },
  {
   "cell_type": "code",
   "execution_count": null,
   "id": "e3f7ebd7",
   "metadata": {},
   "outputs": [],
   "source": [
    "TASK2"
   ]
  },
  {
   "cell_type": "code",
   "execution_count": 7,
   "id": "5e6baf96",
   "metadata": {},
   "outputs": [],
   "source": [
    "def lcs_recursive_memo(s1, s2):\n",
    "    memo = {}\n",
    "\n",
    "    def helper(i, j):\n",
    "        if i == len(s1) or j == len(s2):\n",
    "            return \"\"\n",
    "        if (i, j) in memo:\n",
    "            return memo[(i, j)]\n",
    "        \n",
    "        if s1[i] == s2[j]:\n",
    "            memo[(i, j)] = s1[i] + helper(i + 1, j + 1)\n",
    "        else:\n",
    "            option1 = helper(i + 1, j)\n",
    "            option2 = helper(i, j + 1)\n",
    "            memo[(i, j)] = option1 if len(option1) > len(option2) else option2\n",
    "        return memo[(i, j)]\n",
    "\n",
    "    return helper(0, 0)\n"
   ]
  },
  {
   "cell_type": "code",
   "execution_count": 8,
   "id": "47a6f3b6",
   "metadata": {},
   "outputs": [],
   "source": [
    "def lcs_tabulation(s1, s2):\n",
    "    n, m = len(s1), len(s2)\n",
    "    dp = [[\"\" for _ in range(m+1)] for _ in range(n+1)]\n",
    "\n",
    "    for i in range(n-1, -1, -1):\n",
    "        for j in range(m-1, -1, -1):\n",
    "            if s1[i] == s2[j]:\n",
    "                dp[i][j] = s1[i] + dp[i+1][j+1]\n",
    "            else:\n",
    "                dp[i][j] = dp[i+1][j] if len(dp[i+1][j]) > len(dp[i][j+1]) else dp[i][j+1]\n",
    "\n",
    "    return dp[0][0]\n"
   ]
  },
  {
   "cell_type": "code",
   "execution_count": 9,
   "id": "b4828ac7",
   "metadata": {},
   "outputs": [
    {
     "name": "stdout",
     "output_type": "stream",
     "text": [
      "Recursive + Memoization LCS: GTAB\n",
      "Tabulation LCS: GTAB\n"
     ]
    }
   ],
   "source": [
    "s1 = \"AGGTAB\"\n",
    "s2 = \"GXTXAYB\"\n",
    "\n",
    "print(\"Recursive + Memoization LCS:\", lcs_recursive_memo(s1, s2))  \n",
    "print(\"Tabulation LCS:\", lcs_tabulation(s1, s2))                    \n"
   ]
  },
  {
   "cell_type": "code",
   "execution_count": null,
   "id": "d1aff741",
   "metadata": {},
   "outputs": [],
   "source": [
    "TASK3"
   ]
  },
  {
   "cell_type": "code",
   "execution_count": 10,
   "id": "e9c9e409",
   "metadata": {},
   "outputs": [],
   "source": [
    "def knapsack(weights, values, capacity):\n",
    "    n = len(weights)\n",
    "    \n",
    "    dp = [[0 for _ in range(capacity + 1)] for _ in range(n + 1)]\n",
    "\n",
    "   \n",
    "    for i in range(1, n + 1):\n",
    "        for w in range(1, capacity + 1):\n",
    "            if weights[i - 1] <= w:\n",
    "        \n",
    "                dp[i]\n"
   ]
  },
  {
   "cell_type": "code",
   "execution_count": 11,
   "id": "c5769985",
   "metadata": {},
   "outputs": [
    {
     "name": "stdout",
     "output_type": "stream",
     "text": [
      "7\n"
     ]
    }
   ],
   "source": [
    "def knapsack(weights, values, capacity):\n",
    "    n = len(weights)\n",
    "    \n",
    "    dp = [[0 for _ in range(capacity + 1)] for _ in range(n + 1)]\n",
    "\n",
    "    \n",
    "    for i in range(1, n + 1):\n",
    "        for w in range(1, capacity + 1):\n",
    "            if weights[i - 1] <= w:\n",
    "\n",
    "                dp[i][w] = max(\n",
    "                    values[i - 1] + dp[i - 1][w - weights[i - 1]],\n",
    "                    dp[i - 1][w]\n",
    "                )\n",
    "            else:\n",
    "                \n",
    "                dp[i][w] = dp[i - 1][w]\n",
    "\n",
    "    return dp[n][capacity]\n",
    "\n",
    "\n",
    "weights = [2, 3, 4, 5]\n",
    "values = [3, 4, 5, 6]\n",
    "capacity = 5\n",
    "\n",
    "print(knapsack(weights, values, capacity))  "
   ]
  }
 ],
 "metadata": {
  "kernelspec": {
   "display_name": "Python 3",
   "language": "python",
   "name": "python3"
  },
  "language_info": {
   "codemirror_mode": {
    "name": "ipython",
    "version": 3
   },
   "file_extension": ".py",
   "mimetype": "text/x-python",
   "name": "python",
   "nbconvert_exporter": "python",
   "pygments_lexer": "ipython3",
   "version": "3.12.7"
  }
 },
 "nbformat": 4,
 "nbformat_minor": 5
}

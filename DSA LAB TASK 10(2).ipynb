{
 "cells": [
  {
   "cell_type": "code",
   "execution_count": null,
   "id": "623416e5",
   "metadata": {},
   "outputs": [],
   "source": [
    "DSA LAB TASK10(2)"
   ]
  },
  {
   "cell_type": "code",
   "execution_count": 1,
   "id": "08115769",
   "metadata": {},
   "outputs": [],
   "source": [
    "import math\n",
    "import time\n",
    "def binary_search(arr, target):\n",
    "    low, high = 0, len(arr) - 1\n",
    "    while low <= high:\n",
    "        mid = (low + high) // 2\n",
    "        if arr[mid] == target:\n",
    "            return mid\n",
    "        elif arr[mid] < target:\n",
    "            low = mid + 1\n",
    "        else:\n",
    "            high = mid - 1\n",
    "    return -1\n",
    "def jump_search(arr, target):\n",
    "    n = len(arr)\n",
    "    step = int(math.sqrt(n))\n",
    "    prev = 0\n",
    "    while prev < n and arr[min(step, n) - 1] < target:\n",
    "        prev = step\n",
    "        step += int(math.sqrt(n))\n",
    "        if prev >= n:\n",
    "            return -1\n",
    "    for i in range(prev, min(step, n)):\n",
    "        if arr[i] == target:\n",
    "            return i\n",
    "    return -1\n",
    "def interpolation_search(arr, target):\n",
    "    low = 0\n",
    "    high = len(arr) - 1\n",
    "\n",
    "    while low <= high and arr[low] <= target <= arr[high]:\n",
    "        if arr[high] == arr[low]:\n",
    "            break \n",
    "        pos = low + ((target - arr[low]) * (high - low) // (arr[high] - arr[low]))\n",
    "\n",
    "        if pos < 0 or pos >= len(arr):\n",
    "            return -1\n",
    "\n",
    "        if arr[pos] == target:\n",
    "            return pos\n",
    "        elif arr[pos] < target:\n",
    "            low = pos + 1\n",
    "        else:\n",
    "            high = pos - 1\n",
    "\n",
    "    return -1\n"
   ]
  },
  {
   "cell_type": "code",
   "execution_count": 2,
   "id": "daa4482c",
   "metadata": {},
   "outputs": [
    {
     "name": "stdout",
     "output_type": "stream",
     "text": [
      "Size      Binary (ms)    Jump (ms)      Interpolation (ms)  \n",
      "1000      0.0000         0.0000         0.0000              \n",
      "10000     0.0000         0.0000         0.0000              \n",
      "50000     0.0000         0.0000         0.0000              \n"
     ]
    }
   ],
   "source": [
    "import random\n",
    "\n",
    "def compare_searches():\n",
    "    sizes = [1000, 10000, 50000]\n",
    "    target = 7777  \n",
    "\n",
    "    print(f\"{'Size':<10}{'Binary (ms)':<15}{'Jump (ms)':<15}{'Interpolation (ms)':<20}\")\n",
    "    for size in sizes:\n",
    "        arr = sorted(random.sample(range(size * 2), size))\n",
    "        arr[size // 2] = target  \n",
    "        start = time.time()\n",
    "        binary_search(arr, target)\n",
    "        binary_time = (time.time() - start) * 1000\n",
    "        start = time.time()\n",
    "        jump_search(arr, target)\n",
    "        jump_time = (time.time() - start) * 1000\n",
    "        start = time.time()\n",
    "        interpolation_search(arr, target)\n",
    "        interp_time = (time.time() - start) * 1000\n",
    "\n",
    "        print(f\"{size:<10}{binary_time:<15.4f}{jump_time:<15.4f}{interp_time:<20.4f}\")\n",
    "\n",
    "compare_searches()\n"
   ]
  }
 ],
 "metadata": {
  "kernelspec": {
   "display_name": "Python 3",
   "language": "python",
   "name": "python3"
  },
  "language_info": {
   "codemirror_mode": {
    "name": "ipython",
    "version": 3
   },
   "file_extension": ".py",
   "mimetype": "text/x-python",
   "name": "python",
   "nbconvert_exporter": "python",
   "pygments_lexer": "ipython3",
   "version": "3.12.7"
  }
 },
 "nbformat": 4,
 "nbformat_minor": 5
}

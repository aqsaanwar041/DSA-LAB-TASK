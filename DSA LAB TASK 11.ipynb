{
 "cells": [
  {
   "cell_type": "code",
   "execution_count": null,
   "id": "16fb2f18",
   "metadata": {},
   "outputs": [],
   "source": [
    "TASK 11(1)"
   ]
  },
  {
   "cell_type": "code",
   "execution_count": 1,
   "id": "41b13f51",
   "metadata": {},
   "outputs": [],
   "source": [
    "class Node:\n",
    "    def __init__(self, key, value):\n",
    "        self.key = key\n",
    "        self.value = value\n",
    "        self.next = None\n",
    "\n",
    "class HashTableChaining:\n",
    "    def __init__(self, size):\n",
    "        self.size = size\n",
    "        self.table = [None] * size\n",
    "\n",
    "    def _hash(self, key):\n",
    "        return hash(key) % self.size\n",
    "\n",
    "    def insert(self, key, value):\n",
    "        index = self._hash(key)\n",
    "        head = self.table[index]\n",
    "\n",
    "        while head:\n",
    "            if head.key == key:\n",
    "                head.value = value  \n",
    "                return\n",
    "            head = head.next\n",
    "\n",
    "        new_node = Node(key, value)\n",
    "        new_node.next = self.table[index]\n",
    "        self.table[index] = new_node\n",
    "\n",
    "    def get(self, key):\n",
    "        index = self._hash(key)\n",
    "        head = self.table[index]\n",
    "        while head:\n",
    "            if head.key == key:\n",
    "                return head.value\n",
    "            head = head.next\n",
    "        return None\n",
    "\n",
    "    def delete(self, key):\n",
    "        index = self._hash(key)\n",
    "        head = self.table[index]\n",
    "        prev = None\n",
    "\n",
    "        while head:\n",
    "            if head.key == key:\n",
    "                if prev:\n",
    "                    prev.next = head.next\n",
    "                else:\n",
    "                    self.table[index] = head.next\n",
    "                return\n",
    "            prev = head\n",
    "            head = head.next\n"
   ]
  },
  {
   "cell_type": "code",
   "execution_count": 2,
   "id": "054f2aef",
   "metadata": {},
   "outputs": [],
   "source": [
    "class HashTableLinearProbing:\n",
    "    def __init__(self, size):\n",
    "        self.size = size\n",
    "        self.table = [None] * size\n",
    "        self.deleted = object() \n",
    "\n",
    "    def _hash(self, key):\n",
    "        return hash(key) % self.size\n",
    "\n",
    "    def insert(self, key, value):\n",
    "        index = self._hash(key)\n",
    "        for _ in range(self.size):\n",
    "            if self.table[index] is None or self.table[index] is self.deleted:\n",
    "                self.table[index] = (key, value)\n",
    "                return\n",
    "            elif self.table[index][0] == key:\n",
    "                self.table[index] = (key, value)\n",
    "                return\n",
    "            index = (index + 1) % self.size\n",
    "        raise Exception(\"Hash Table is full\")\n",
    "\n",
    "    def get(self, key):\n",
    "        index = self._hash(key)\n",
    "        for _ in range(self.size):\n",
    "            if self.table[index] is None:\n",
    "                return None\n",
    "            if self.table[index] is not self.deleted and self.table[index][0] == key:\n",
    "                return self.table[index][1]\n",
    "            index = (index + 1) % self.size\n",
    "        return None\n",
    "\n",
    "    def delete(self, key):\n",
    "        index = self._hash(key)\n",
    "        for _ in range(self.size):\n",
    "            if self.table[index] is None:\n",
    "                return\n",
    "            if self.table[index] is not self.deleted and self.table[index][0] == key:\n",
    "                self.table[index] = self.deleted\n",
    "                return\n",
    "            index = (index + 1) % self.size\n"
   ]
  },
  {
   "cell_type": "code",
   "execution_count": 3,
   "id": "5ba2273b",
   "metadata": {},
   "outputs": [
    {
     "name": "stdout",
     "output_type": "stream",
     "text": [
      "=== Chaining ===\n",
      "Alice\n",
      "None\n",
      "\n",
      "=== Linear Probing ===\n",
      "Alice\n",
      "None\n"
     ]
    }
   ],
   "source": [
    "\n",
    "print(\"=== Chaining ===\")\n",
    "ht_chain = HashTableChaining(10)\n",
    "ht_chain.insert(\"name\", \"Alice\")\n",
    "ht_chain.insert(\"age\", 25)\n",
    "print(ht_chain.get(\"name\"))  \n",
    "ht_chain.delete(\"age\")\n",
    "print(ht_chain.get(\"age\"))   \n",
    "\n",
    "print(\"\\n=== Linear Probing ===\")\n",
    "ht_probe = HashTableLinearProbing(10)\n",
    "ht_probe.insert(\"name\", \"Alice\")\n",
    "ht_probe.insert(\"age\", 25)\n",
    "print(ht_probe.get(\"name\"))  \n",
    "ht_probe.delete(\"age\")\n",
    "print(ht_probe.get(\"age\"))  "
   ]
  },
  {
   "cell_type": "code",
   "execution_count": null,
   "id": "a04bf30b",
   "metadata": {},
   "outputs": [],
   "source": [
    "TASK 11(2)"
   ]
  },
  {
   "cell_type": "code",
   "execution_count": 4,
   "id": "1f0a3cb7",
   "metadata": {},
   "outputs": [],
   "source": [
    "def custom_hash(key, table_size=100):\n",
    "    \"\"\"\n",
    "    A custom hash function using a polynomial rolling hash.\n",
    "    \"\"\"\n",
    "    p = 31\n",
    "    m = 1e9 + 9\n",
    "    hash_value = 0\n",
    "    p_pow = 1\n",
    "\n",
    "    for c in key:\n",
    "        hash_value = (hash_value + (ord(c) - ord('a') + 1) * p_pow) % m\n",
    "        p_pow = (p_pow * p) % m\n",
    "\n",
    "    return int(hash_value % table_size)\n"
   ]
  },
  {
   "cell_type": "code",
   "execution_count": 5,
   "id": "52786734",
   "metadata": {},
   "outputs": [],
   "source": [
    "def builtin_hash(key, table_size=100):\n",
    "    return hash(key) % table_size\n"
   ]
  },
  {
   "cell_type": "code",
   "execution_count": 6,
   "id": "73f36e08",
   "metadata": {},
   "outputs": [],
   "source": [
    "import random\n",
    "import string\n",
    "from collections import defaultdict\n",
    "\n",
    "def generate_random_keys(n, key_length=8):\n",
    "    return [''.join(random.choices(string.ascii_lowercase, k=key_length)) for _ in range(n)]\n",
    "\n",
    "def analyze_collisions(hash_function, keys, table_size=100):\n",
    "    table = defaultdict(int)\n",
    "    collisions = 0\n",
    "\n",
    "    for key in keys:\n",
    "        index = hash_function(key, table_size)\n",
    "        if table[index] > 0:\n",
    "            collisions += 1\n",
    "        table[index] += 1\n",
    "\n",
    "    return collisions, table\n"
   ]
  },
  {
   "cell_type": "code",
   "execution_count": 7,
   "id": "6a0aa4bf",
   "metadata": {},
   "outputs": [],
   "source": [
    "import matplotlib.pyplot as plt\n",
    "\n",
    "def plot_distribution(table, title):\n",
    "    indexes = list(table.keys())\n",
    "    frequencies = list(table.values())\n",
    "\n",
    "    plt.bar(indexes, frequencies)\n",
    "    plt.xlabel(\"Hash Table Index\")\n",
    "    plt.ylabel(\"Frequency\")\n",
    "    plt.title(title)\n",
    "    plt.show()\n"
   ]
  },
  {
   "cell_type": "code",
   "execution_count": 8,
   "id": "4bccd9e2",
   "metadata": {},
   "outputs": [
    {
     "name": "stdout",
     "output_type": "stream",
     "text": [
      "Custom Hash Collisions: 900\n",
      "Built-in Hash Collisions: 900\n"
     ]
    },
    {
     "data": {
      "image/png": "[encoded data removed]",
      "text/plain": [
       "<Figure size 640x480 with 1 Axes>"
      ]
     },
     "metadata": {},
     "output_type": "display_data"
    },
    {
     "data": {
      "image/png": "[encoded data removed]",
      "text/plain": [
       "<Figure size 640x480 with 1 Axes>"
      ]
     },
     "metadata": {},
     "output_type": "display_data"
    }
   ],
   "source": [
    "keys = generate_random_keys(1000)\n",
    "\n",
    "collisions_custom, table_custom = analyze_collisions(custom_hash, keys)\n",
    "collisions_builtin, table_builtin = analyze_collisions(builtin_hash, keys)\n",
    "\n",
    "print(\"Custom Hash Collisions:\", collisions_custom)\n",
    "print(\"Built-in Hash Collisions:\", collisions_builtin)\n",
    "\n",
    "plot_distribution(table_custom, \"Custom Hash Function Distribution\")\n",
    "plot_distribution(table_builtin, \"Built-in Hash Function Distribution\")\n"
   ]
  },
  {
   "cell_type": "code",
   "execution_count": null,
   "id": "56a6b51c",
   "metadata": {},
   "outputs": [],
   "source": [
    "TASK1 10(3)"
   ]
  },
  {
   "cell_type": "code",
   "execution_count": 9,
   "id": "89d89663",
   "metadata": {},
   "outputs": [],
   "source": [
    "class Node:\n",
    "    def __init__(self, key, value):\n",
    "        self.key = key\n",
    "        self.value = value\n",
    "        self.prev = None\n",
    "        self.next = None\n",
    "\n",
    "class LRUCache:\n",
    "    def __init__(self, capacity: int):\n",
    "        self.capacity = capacity\n",
    "        self.cache = {}  \n",
    "        self.head = Node(0, 0)\n",
    "        self.tail = Node(0, 0)\n",
    "        self.head.next = self.tail\n",
    "        self.tail.prev = self.head\n",
    "\n",
    "    def _remove(self, node):\n",
    "        \"\"\"Remove node from linked list.\"\"\"\n",
    "        prev = node.prev\n",
    "        nxt = node.next\n",
    "        prev.next = nxt\n",
    "        nxt.prev = prev\n",
    "\n",
    "    def _add(self, node):\n",
    "        \"\"\"Add node right after head (most recently used).\"\"\"\n",
    "        node.next = self.head.next\n",
    "        node.prev = self.head\n",
    "        self.head.next.prev = node\n",
    "        self.head.next = node\n",
    "\n",
    "    def get(self, key: int) -> str:\n",
    "        if key in self.cache:\n",
    "            node = self.cache[key]\n",
    "            self._remove(node)\n",
    "            self._add(node)  \n",
    "            return node.value\n",
    "        return -1\n",
    "\n",
    "    def put(self, key: int, value: str) -> None:\n",
    "        if key in self.cache:\n",
    "            self._remove(self.cache[key])\n",
    "        node = Node(key, value)\n",
    "        self.cache[key] = node\n",
    "        self._add(node)\n",
    "\n",
    "        if len(self.cache) > self.capacity:\n",
    "            lru = self.tail.prev\n",
    "            self._remove(lru)\n",
    "            del self.cache[lru.key]\n"
   ]
  },
  {
   "cell_type": "code",
   "execution_count": 12,
   "id": "85462bdc",
   "metadata": {},
   "outputs": [
    {
     "name": "stdout",
     "output_type": "stream",
     "text": [
      "A\n",
      "-1\n",
      "C\n"
     ]
    }
   ],
   "source": [
    "cache = LRUCache(2)\n",
    "cache.put(1, \"A\")\n",
    "cache.put(2, \"B\")\n",
    "print(cache.get(1))  \n",
    "cache.put(3, \"C\")     \n",
    "print(cache.get(2))   \n",
    "print(cache.get(3))   \n"
   ]
  }
 ],
 "metadata": {
  "kernelspec": {
   "display_name": "Python 3",
   "language": "python",
   "name": "python3"
  },
  "language_info": {
   "codemirror_mode": {
    "name": "ipython",
    "version": 3
   },
   "file_extension": ".py",
   "mimetype": "text/x-python",
   "name": "python",
   "nbconvert_exporter": "python",
   "pygments_lexer": "ipython3",
   "version": "3.12.7"
  }
 },
 "nbformat": 4,
 "nbformat_minor": 5
}
